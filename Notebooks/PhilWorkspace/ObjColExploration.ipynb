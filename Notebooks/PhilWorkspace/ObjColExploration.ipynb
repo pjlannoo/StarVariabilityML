{
 "cells": [
  {
   "cell_type": "code",
   "execution_count": 15,
   "metadata": {},
   "outputs": [],
   "source": [
    "import pandas as pd\n",
    "import numpy as np\n",
    "import matplotlib.pyplot as plt\n",
    "\n",
    "from sklearn.impute import SimpleImputer\n",
    "from sklearn.model_selection import train_test_split, cross_val_score\n",
    "from sklearn.linear_model import LogisticRegression\n",
    "from sklearn.tree import DecisionTreeClassifier\n",
    "from sklearn.neighbors import KNeighborsClassifier\n",
    "from sklearn.ensemble import VotingClassifier\n",
    "from sklearn.ensemble import BaggingClassifier\n",
    "from sklearn.ensemble import RandomForestClassifier\n",
    "from sklearn.ensemble import ExtraTreesClassifier\n",
    "from sklearn.pipeline import Pipeline\n",
    "from sklearn.metrics import accuracy_score, f1_score, recall_score, roc_auc_score, plot_confusion_matrix, confusion_matrix, plot_roc_curve, precision_score\n",
    "from sklearn.preprocessing import StandardScaler, OneHotEncoder, MinMaxScaler\n",
    "from sklearn.compose import ColumnTransformer\n",
    "from sklearn.linear_model import LinearRegression\n",
    "from sklearn.neighbors import KNeighborsRegressor\n",
    "from sklearn.tree import DecisionTreeRegressor\n",
    "from sklearn.ensemble import StackingRegressor\n",
    "from sklearn.ensemble import AdaBoostClassifier\n",
    "from sklearn.model_selection import GridSearchCV\n",
    "import xgboost as xgb\n",
    "\n",
    "pd.set_option('display.max_columns', None)"
   ]
  },
  {
   "cell_type": "code",
   "execution_count": 10,
   "metadata": {},
   "outputs": [],
   "source": [
    "df = pd.read_csv(\"../../data/UsableData.csv\")\n",
    "holdoutdf = pd.read_csv(\"../../data/UntestableData.csv\")\n",
    "df = df.drop(columns=['Unnamed: 0'])\n",
    "df['HvarType'] = df['HvarType'].mask(df['HvarType'] != 'C', other='V')\n",
    "\n",
    "df = df.drop(columns=['Catalog', 'VarFlag', '---', 'Period', 'moreVar', 'morePhoto', 'Source'])\n",
    "holdoutdf = holdoutdf.drop(columns=['Unnamed: 0', 'Catalog', 'VarFlag', '---', 'Period', 'moreVar', 'morePhoto', 'Source'])\n",
    "\n",
    "mask = {\n",
    "    'C': 0,\n",
    "    'V': 1\n",
    "}\n",
    "df['Target'] = df['HvarType'].map(mask)\n",
    "# df['AstroRefIndicator'] = df['AstroRef'].isna()\n",
    "# mask = {\n",
    "#     True: 1,\n",
    "#     False: 0\n",
    "# }\n",
    "# df['AstroRefIndicator'] = df['AstroRefIndicator'].map(mask)\n",
    "\n",
    "x = df.drop(columns=['HvarType','Target','HIP'])\n",
    "y = df['Target']\n",
    "\n",
    "x_train, x_test, y_train, y_test = train_test_split(x, y, test_size=.25, random_state=42)"
   ]
  },
  {
   "cell_type": "code",
   "execution_count": 11,
   "metadata": {},
   "outputs": [],
   "source": [
    "def displayMetrics(fitModel, xtr, xte, ytr, yte):\n",
    "    train_preds = fitModel.predict(xtr)\n",
    "    test_preds = fitModel.predict(xte)\n",
    "    train_probs = fitModel.predict_proba(xtr)[:,1]\n",
    "    test_probs = fitModel.predict_proba(xte)[:,1]\n",
    "\n",
    "    train_accuracy = accuracy_score(ytr, train_preds)\n",
    "    test_accuracy = accuracy_score(yte, test_preds)\n",
    "    train_recall = recall_score(ytr, train_preds, zero_division=0)\n",
    "    test_recall = recall_score(yte, test_preds, zero_division=0)\n",
    "    train_precision = precision_score(ytr, train_preds, zero_division=0)\n",
    "    test_precision = precision_score(yte, test_preds, zero_division=0)\n",
    "    train_f1 = f1_score(ytr, train_preds, zero_division=0)\n",
    "    test_f1 = f1_score(yte, test_preds, zero_division=0)\n",
    "    train_rocauc = roc_auc_score(ytr, train_probs)\n",
    "    test_rocauc = roc_auc_score(yte, test_probs)\n",
    "\n",
    "    print(F'\\nTrain Accuracy:\\t\\t{train_accuracy}')\n",
    "    print(F'Test Accuracy:\\t\\t{test_accuracy}')\n",
    "    print(F\"\\nTrain Recall:\\t\\t{train_recall}\")\n",
    "    print(F'Test Recall:\\t\\t{test_recall}')\n",
    "    print(F\"\\nTrain Precision:\\t{train_precision}\")\n",
    "    print(F'Test Precision:\\t\\t{test_precision}')\n",
    "    print(F\"\\nTrain f1:\\t\\t{train_f1}\")\n",
    "    print(F'Test f1:\\t\\t{test_f1}')\n",
    "    print(F\"\\nTrain ROC-AUC:\\t\\t{train_rocauc}\")\n",
    "    print(F'Test ROC-AUC:\\t\\t{test_rocauc}')\n",
    "    \n",
    "    plot_confusion_matrix(fitModel, xte, yte)"
   ]
  },
  {
   "cell_type": "code",
   "execution_count": 18,
   "metadata": {},
   "outputs": [],
   "source": [
    "numCols = [col for col in df.columns if df[col].dtype != 'O']\n",
    "objCols = [col for col in df.columns if df[col].dtype == 'O']"
   ]
  },
  {
   "cell_type": "code",
   "execution_count": 30,
   "metadata": {},
   "outputs": [
    {
     "data": {
      "text/html": [
       "<div>\n",
       "<style scoped>\n",
       "    .dataframe tbody tr th:only-of-type {\n",
       "        vertical-align: middle;\n",
       "    }\n",
       "\n",
       "    .dataframe tbody tr th {\n",
       "        vertical-align: top;\n",
       "    }\n",
       "\n",
       "    .dataframe thead th {\n",
       "        text-align: right;\n",
       "    }\n",
       "</style>\n",
       "<table border=\"1\" class=\"dataframe\">\n",
       "  <thead>\n",
       "    <tr style=\"text-align: right;\">\n",
       "      <th></th>\n",
       "      <th>Proxy</th>\n",
       "      <th>RAhms</th>\n",
       "      <th>DEdms</th>\n",
       "      <th>r_Vmag</th>\n",
       "      <th>AstroRef</th>\n",
       "      <th>m_BTmag</th>\n",
       "      <th>r_B-V</th>\n",
       "      <th>r_V-I</th>\n",
       "      <th>CombMag</th>\n",
       "      <th>m_Hpmag</th>\n",
       "      <th>HvarType</th>\n",
       "      <th>CCDM</th>\n",
       "      <th>n_CCDM</th>\n",
       "      <th>MultFlag</th>\n",
       "      <th>Qual</th>\n",
       "      <th>m_HIP</th>\n",
       "      <th>Survey</th>\n",
       "      <th>Chart</th>\n",
       "      <th>Notes</th>\n",
       "      <th>BD</th>\n",
       "      <th>CoD</th>\n",
       "      <th>CPD</th>\n",
       "      <th>SpType</th>\n",
       "      <th>r_SpType</th>\n",
       "    </tr>\n",
       "  </thead>\n",
       "  <tbody>\n",
       "    <tr>\n",
       "      <th>0</th>\n",
       "      <td>NaN</td>\n",
       "      <td>00 00 00.91</td>\n",
       "      <td>-19 29 55.8</td>\n",
       "      <td>G</td>\n",
       "      <td>+</td>\n",
       "      <td>NaN</td>\n",
       "      <td>G</td>\n",
       "      <td>I</td>\n",
       "      <td>NaN</td>\n",
       "      <td>NaN</td>\n",
       "      <td>C</td>\n",
       "      <td>NaN</td>\n",
       "      <td>NaN</td>\n",
       "      <td>O</td>\n",
       "      <td>NaN</td>\n",
       "      <td>NaN</td>\n",
       "      <td>NaN</td>\n",
       "      <td>NaN</td>\n",
       "      <td>NaN</td>\n",
       "      <td>B-20 6688</td>\n",
       "      <td>NaN</td>\n",
       "      <td>NaN</td>\n",
       "      <td>K3V</td>\n",
       "      <td>4</td>\n",
       "    </tr>\n",
       "    <tr>\n",
       "      <th>1</th>\n",
       "      <td>NaN</td>\n",
       "      <td>00 00 01.20</td>\n",
       "      <td>+38 51 33.4</td>\n",
       "      <td>G</td>\n",
       "      <td>NaN</td>\n",
       "      <td>NaN</td>\n",
       "      <td>G</td>\n",
       "      <td>H</td>\n",
       "      <td>NaN</td>\n",
       "      <td>NaN</td>\n",
       "      <td>C</td>\n",
       "      <td>00000+3852</td>\n",
       "      <td>I</td>\n",
       "      <td>NaN</td>\n",
       "      <td>NaN</td>\n",
       "      <td>NaN</td>\n",
       "      <td>S</td>\n",
       "      <td>NaN</td>\n",
       "      <td>NaN</td>\n",
       "      <td>B+38 5108</td>\n",
       "      <td>NaN</td>\n",
       "      <td>NaN</td>\n",
       "      <td>B9</td>\n",
       "      <td>S</td>\n",
       "    </tr>\n",
       "    <tr>\n",
       "      <th>2</th>\n",
       "      <td>NaN</td>\n",
       "      <td>00 00 05.41</td>\n",
       "      <td>+20 02 11.8</td>\n",
       "      <td>G</td>\n",
       "      <td>NaN</td>\n",
       "      <td>NaN</td>\n",
       "      <td>G</td>\n",
       "      <td>H</td>\n",
       "      <td>NaN</td>\n",
       "      <td>NaN</td>\n",
       "      <td>C</td>\n",
       "      <td>NaN</td>\n",
       "      <td>NaN</td>\n",
       "      <td>NaN</td>\n",
       "      <td>NaN</td>\n",
       "      <td>NaN</td>\n",
       "      <td>NaN</td>\n",
       "      <td>NaN</td>\n",
       "      <td>NaN</td>\n",
       "      <td>B+19 5185</td>\n",
       "      <td>NaN</td>\n",
       "      <td>NaN</td>\n",
       "      <td>G0</td>\n",
       "      <td>S</td>\n",
       "    </tr>\n",
       "    <tr>\n",
       "      <th>3</th>\n",
       "      <td>NaN</td>\n",
       "      <td>00 00 06.55</td>\n",
       "      <td>+25 53 11.3</td>\n",
       "      <td>H</td>\n",
       "      <td>NaN</td>\n",
       "      <td>NaN</td>\n",
       "      <td>T</td>\n",
       "      <td>O</td>\n",
       "      <td>NaN</td>\n",
       "      <td>NaN</td>\n",
       "      <td>V</td>\n",
       "      <td>NaN</td>\n",
       "      <td>NaN</td>\n",
       "      <td>NaN</td>\n",
       "      <td>S</td>\n",
       "      <td>NaN</td>\n",
       "      <td>NaN</td>\n",
       "      <td>G</td>\n",
       "      <td>P</td>\n",
       "      <td>B+25 5054</td>\n",
       "      <td>NaN</td>\n",
       "      <td>NaN</td>\n",
       "      <td>M6e-M8.5e Tc</td>\n",
       "      <td>G</td>\n",
       "    </tr>\n",
       "    <tr>\n",
       "      <th>4</th>\n",
       "      <td>NaN</td>\n",
       "      <td>00 00 08.48</td>\n",
       "      <td>+36 35 09.4</td>\n",
       "      <td>H</td>\n",
       "      <td>NaN</td>\n",
       "      <td>NaN</td>\n",
       "      <td>T</td>\n",
       "      <td>L</td>\n",
       "      <td>NaN</td>\n",
       "      <td>NaN</td>\n",
       "      <td>C</td>\n",
       "      <td>NaN</td>\n",
       "      <td>NaN</td>\n",
       "      <td>NaN</td>\n",
       "      <td>NaN</td>\n",
       "      <td>NaN</td>\n",
       "      <td>NaN</td>\n",
       "      <td>NaN</td>\n",
       "      <td>NaN</td>\n",
       "      <td>B+35 5149</td>\n",
       "      <td>NaN</td>\n",
       "      <td>NaN</td>\n",
       "      <td>G5</td>\n",
       "      <td>S</td>\n",
       "    </tr>\n",
       "    <tr>\n",
       "      <th>...</th>\n",
       "      <td>...</td>\n",
       "      <td>...</td>\n",
       "      <td>...</td>\n",
       "      <td>...</td>\n",
       "      <td>...</td>\n",
       "      <td>...</td>\n",
       "      <td>...</td>\n",
       "      <td>...</td>\n",
       "      <td>...</td>\n",
       "      <td>...</td>\n",
       "      <td>...</td>\n",
       "      <td>...</td>\n",
       "      <td>...</td>\n",
       "      <td>...</td>\n",
       "      <td>...</td>\n",
       "      <td>...</td>\n",
       "      <td>...</td>\n",
       "      <td>...</td>\n",
       "      <td>...</td>\n",
       "      <td>...</td>\n",
       "      <td>...</td>\n",
       "      <td>...</td>\n",
       "      <td>...</td>\n",
       "      <td>...</td>\n",
       "    </tr>\n",
       "    <tr>\n",
       "      <th>71617</th>\n",
       "      <td>NaN</td>\n",
       "      <td>23 59 49.40</td>\n",
       "      <td>+21 08 59.1</td>\n",
       "      <td>H</td>\n",
       "      <td>NaN</td>\n",
       "      <td>NaN</td>\n",
       "      <td>G</td>\n",
       "      <td>H</td>\n",
       "      <td>NaN</td>\n",
       "      <td>NaN</td>\n",
       "      <td>C</td>\n",
       "      <td>NaN</td>\n",
       "      <td>NaN</td>\n",
       "      <td>NaN</td>\n",
       "      <td>NaN</td>\n",
       "      <td>NaN</td>\n",
       "      <td>NaN</td>\n",
       "      <td>NaN</td>\n",
       "      <td>NaN</td>\n",
       "      <td>B+20 5413</td>\n",
       "      <td>NaN</td>\n",
       "      <td>NaN</td>\n",
       "      <td>F0</td>\n",
       "      <td>S</td>\n",
       "    </tr>\n",
       "    <tr>\n",
       "      <th>71618</th>\n",
       "      <td>NaN</td>\n",
       "      <td>23 59 49.64</td>\n",
       "      <td>-37 51 28.6</td>\n",
       "      <td>H</td>\n",
       "      <td>NaN</td>\n",
       "      <td>NaN</td>\n",
       "      <td>T</td>\n",
       "      <td>L</td>\n",
       "      <td>NaN</td>\n",
       "      <td>NaN</td>\n",
       "      <td>C</td>\n",
       "      <td>NaN</td>\n",
       "      <td>NaN</td>\n",
       "      <td>NaN</td>\n",
       "      <td>NaN</td>\n",
       "      <td>NaN</td>\n",
       "      <td>NaN</td>\n",
       "      <td>NaN</td>\n",
       "      <td>NaN</td>\n",
       "      <td>NaN</td>\n",
       "      <td>C-38 15704</td>\n",
       "      <td>P-38  8593</td>\n",
       "      <td>K0</td>\n",
       "      <td>S</td>\n",
       "    </tr>\n",
       "    <tr>\n",
       "      <th>71619</th>\n",
       "      <td>NaN</td>\n",
       "      <td>23 59 51.30</td>\n",
       "      <td>+11 40 25.4</td>\n",
       "      <td>H</td>\n",
       "      <td>NaN</td>\n",
       "      <td>NaN</td>\n",
       "      <td>T</td>\n",
       "      <td>L</td>\n",
       "      <td>NaN</td>\n",
       "      <td>NaN</td>\n",
       "      <td>V</td>\n",
       "      <td>NaN</td>\n",
       "      <td>NaN</td>\n",
       "      <td>NaN</td>\n",
       "      <td>NaN</td>\n",
       "      <td>NaN</td>\n",
       "      <td>S</td>\n",
       "      <td>NaN</td>\n",
       "      <td>NaN</td>\n",
       "      <td>B+10 5018</td>\n",
       "      <td>NaN</td>\n",
       "      <td>NaN</td>\n",
       "      <td>K2</td>\n",
       "      <td>S</td>\n",
       "    </tr>\n",
       "    <tr>\n",
       "      <th>71620</th>\n",
       "      <td>NaN</td>\n",
       "      <td>23 59 53.74</td>\n",
       "      <td>-22 25 41.4</td>\n",
       "      <td>G</td>\n",
       "      <td>NaN</td>\n",
       "      <td>NaN</td>\n",
       "      <td>G</td>\n",
       "      <td>H</td>\n",
       "      <td>NaN</td>\n",
       "      <td>NaN</td>\n",
       "      <td>C</td>\n",
       "      <td>NaN</td>\n",
       "      <td>NaN</td>\n",
       "      <td>NaN</td>\n",
       "      <td>NaN</td>\n",
       "      <td>NaN</td>\n",
       "      <td>S</td>\n",
       "      <td>NaN</td>\n",
       "      <td>NaN</td>\n",
       "      <td>NaN</td>\n",
       "      <td>C-23 18108</td>\n",
       "      <td>P-23  8366</td>\n",
       "      <td>G2V</td>\n",
       "      <td>4</td>\n",
       "    </tr>\n",
       "    <tr>\n",
       "      <th>71621</th>\n",
       "      <td>NaN</td>\n",
       "      <td>23 59 54.25</td>\n",
       "      <td>+05 57 23.9</td>\n",
       "      <td>H</td>\n",
       "      <td>NaN</td>\n",
       "      <td>NaN</td>\n",
       "      <td>T</td>\n",
       "      <td>L</td>\n",
       "      <td>NaN</td>\n",
       "      <td>NaN</td>\n",
       "      <td>C</td>\n",
       "      <td>NaN</td>\n",
       "      <td>NaN</td>\n",
       "      <td>NaN</td>\n",
       "      <td>NaN</td>\n",
       "      <td>NaN</td>\n",
       "      <td>S</td>\n",
       "      <td>NaN</td>\n",
       "      <td>NaN</td>\n",
       "      <td>B+05 5245</td>\n",
       "      <td>NaN</td>\n",
       "      <td>NaN</td>\n",
       "      <td>K0</td>\n",
       "      <td>S</td>\n",
       "    </tr>\n",
       "  </tbody>\n",
       "</table>\n",
       "<p>71622 rows × 24 columns</p>\n",
       "</div>"
      ],
      "text/plain": [
       "      Proxy        RAhms        DEdms r_Vmag AstroRef m_BTmag r_B-V r_V-I  \\\n",
       "0       NaN  00 00 00.91  -19 29 55.8      G        +     NaN     G     I   \n",
       "1       NaN  00 00 01.20  +38 51 33.4      G      NaN     NaN     G     H   \n",
       "2       NaN  00 00 05.41  +20 02 11.8      G      NaN     NaN     G     H   \n",
       "3       NaN  00 00 06.55  +25 53 11.3      H      NaN     NaN     T     O   \n",
       "4       NaN  00 00 08.48  +36 35 09.4      H      NaN     NaN     T     L   \n",
       "...     ...          ...          ...    ...      ...     ...   ...   ...   \n",
       "71617   NaN  23 59 49.40  +21 08 59.1      H      NaN     NaN     G     H   \n",
       "71618   NaN  23 59 49.64  -37 51 28.6      H      NaN     NaN     T     L   \n",
       "71619   NaN  23 59 51.30  +11 40 25.4      H      NaN     NaN     T     L   \n",
       "71620   NaN  23 59 53.74  -22 25 41.4      G      NaN     NaN     G     H   \n",
       "71621   NaN  23 59 54.25  +05 57 23.9      H      NaN     NaN     T     L   \n",
       "\n",
       "      CombMag m_Hpmag HvarType        CCDM n_CCDM MultFlag Qual m_HIP Survey  \\\n",
       "0         NaN     NaN        C         NaN    NaN        O  NaN   NaN    NaN   \n",
       "1         NaN     NaN        C  00000+3852      I      NaN  NaN   NaN      S   \n",
       "2         NaN     NaN        C         NaN    NaN      NaN  NaN   NaN    NaN   \n",
       "3         NaN     NaN        V         NaN    NaN      NaN    S   NaN    NaN   \n",
       "4         NaN     NaN        C         NaN    NaN      NaN  NaN   NaN    NaN   \n",
       "...       ...     ...      ...         ...    ...      ...  ...   ...    ...   \n",
       "71617     NaN     NaN        C         NaN    NaN      NaN  NaN   NaN    NaN   \n",
       "71618     NaN     NaN        C         NaN    NaN      NaN  NaN   NaN    NaN   \n",
       "71619     NaN     NaN        V         NaN    NaN      NaN  NaN   NaN      S   \n",
       "71620     NaN     NaN        C         NaN    NaN      NaN  NaN   NaN      S   \n",
       "71621     NaN     NaN        C         NaN    NaN      NaN  NaN   NaN      S   \n",
       "\n",
       "      Chart Notes         BD         CoD         CPD        SpType r_SpType  \n",
       "0       NaN   NaN  B-20 6688         NaN         NaN           K3V        4  \n",
       "1       NaN   NaN  B+38 5108         NaN         NaN            B9        S  \n",
       "2       NaN   NaN  B+19 5185         NaN         NaN            G0        S  \n",
       "3         G     P  B+25 5054         NaN         NaN  M6e-M8.5e Tc        G  \n",
       "4       NaN   NaN  B+35 5149         NaN         NaN            G5        S  \n",
       "...     ...   ...        ...         ...         ...           ...      ...  \n",
       "71617   NaN   NaN  B+20 5413         NaN         NaN            F0        S  \n",
       "71618   NaN   NaN        NaN  C-38 15704  P-38  8593            K0        S  \n",
       "71619   NaN   NaN  B+10 5018         NaN         NaN            K2        S  \n",
       "71620   NaN   NaN        NaN  C-23 18108  P-23  8366           G2V        4  \n",
       "71621   NaN   NaN  B+05 5245         NaN         NaN            K0        S  \n",
       "\n",
       "[71622 rows x 24 columns]"
      ]
     },
     "execution_count": 30,
     "metadata": {},
     "output_type": "execute_result"
    }
   ],
   "source": [
    "df[objCols]"
   ]
  },
  {
   "cell_type": "code",
   "execution_count": 19,
   "metadata": {},
   "outputs": [
    {
     "data": {
      "text/html": [
       "<div>\n",
       "<style scoped>\n",
       "    .dataframe tbody tr th:only-of-type {\n",
       "        vertical-align: middle;\n",
       "    }\n",
       "\n",
       "    .dataframe tbody tr th {\n",
       "        vertical-align: top;\n",
       "    }\n",
       "\n",
       "    .dataframe thead th {\n",
       "        text-align: right;\n",
       "    }\n",
       "</style>\n",
       "<table border=\"1\" class=\"dataframe\">\n",
       "  <thead>\n",
       "    <tr style=\"text-align: right;\">\n",
       "      <th></th>\n",
       "      <th>HIP</th>\n",
       "      <th>Vmag</th>\n",
       "      <th>RAdeg</th>\n",
       "      <th>DEdeg</th>\n",
       "      <th>Plx</th>\n",
       "      <th>pmRA</th>\n",
       "      <th>pmDE</th>\n",
       "      <th>e_RAdeg</th>\n",
       "      <th>e_DEdeg</th>\n",
       "      <th>e_Plx</th>\n",
       "      <th>e_pmRA</th>\n",
       "      <th>e_pmDE</th>\n",
       "      <th>DE:RA</th>\n",
       "      <th>Plx:RA</th>\n",
       "      <th>Plx:DE</th>\n",
       "      <th>pmRA:RA</th>\n",
       "      <th>pmRA:DE</th>\n",
       "      <th>pmRA:Plx</th>\n",
       "      <th>pmDE:RA</th>\n",
       "      <th>pmDE:DE</th>\n",
       "      <th>pmDE:Plx</th>\n",
       "      <th>pmDE:pmRA</th>\n",
       "      <th>F1</th>\n",
       "      <th>F2</th>\n",
       "      <th>BTmag</th>\n",
       "      <th>e_BTmag</th>\n",
       "      <th>VTmag</th>\n",
       "      <th>e_VTmag</th>\n",
       "      <th>B-V</th>\n",
       "      <th>e_B-V</th>\n",
       "      <th>V-I</th>\n",
       "      <th>e_V-I</th>\n",
       "      <th>Hpmag</th>\n",
       "      <th>e_Hpmag</th>\n",
       "      <th>Hpscat</th>\n",
       "      <th>o_Hpmag</th>\n",
       "      <th>Hpmax</th>\n",
       "      <th>HPmin</th>\n",
       "      <th>Nsys</th>\n",
       "      <th>Ncomp</th>\n",
       "      <th>theta</th>\n",
       "      <th>rho</th>\n",
       "      <th>e_rho</th>\n",
       "      <th>dHp</th>\n",
       "      <th>e_dHp</th>\n",
       "      <th>HD</th>\n",
       "      <th>(V-I)red</th>\n",
       "      <th>Target</th>\n",
       "    </tr>\n",
       "  </thead>\n",
       "  <tbody>\n",
       "    <tr>\n",
       "      <th>0</th>\n",
       "      <td>2</td>\n",
       "      <td>9.27</td>\n",
       "      <td>0.003797</td>\n",
       "      <td>-19.498837</td>\n",
       "      <td>21.90</td>\n",
       "      <td>181.21</td>\n",
       "      <td>-0.93</td>\n",
       "      <td>1.28</td>\n",
       "      <td>0.70</td>\n",
       "      <td>3.10</td>\n",
       "      <td>1.74</td>\n",
       "      <td>0.92</td>\n",
       "      <td>0.12</td>\n",
       "      <td>-0.14</td>\n",
       "      <td>-0.24</td>\n",
       "      <td>-0.29</td>\n",
       "      <td>0.01</td>\n",
       "      <td>0.21</td>\n",
       "      <td>-0.02</td>\n",
       "      <td>-0.19</td>\n",
       "      <td>-0.28</td>\n",
       "      <td>0.14</td>\n",
       "      <td>2.0</td>\n",
       "      <td>1.45</td>\n",
       "      <td>10.519</td>\n",
       "      <td>0.033</td>\n",
       "      <td>9.378</td>\n",
       "      <td>0.021</td>\n",
       "      <td>0.999</td>\n",
       "      <td>0.002</td>\n",
       "      <td>1.04</td>\n",
       "      <td>0.00</td>\n",
       "      <td>9.4017</td>\n",
       "      <td>0.0017</td>\n",
       "      <td>0.015</td>\n",
       "      <td>120.0</td>\n",
       "      <td>9.37</td>\n",
       "      <td>9.44</td>\n",
       "      <td>NaN</td>\n",
       "      <td>1.0</td>\n",
       "      <td>NaN</td>\n",
       "      <td>NaN</td>\n",
       "      <td>NaN</td>\n",
       "      <td>NaN</td>\n",
       "      <td>NaN</td>\n",
       "      <td>224690.0</td>\n",
       "      <td>1.04</td>\n",
       "      <td>0</td>\n",
       "    </tr>\n",
       "    <tr>\n",
       "      <th>1</th>\n",
       "      <td>3</td>\n",
       "      <td>6.61</td>\n",
       "      <td>0.005008</td>\n",
       "      <td>38.859286</td>\n",
       "      <td>2.81</td>\n",
       "      <td>5.24</td>\n",
       "      <td>-2.91</td>\n",
       "      <td>0.53</td>\n",
       "      <td>0.40</td>\n",
       "      <td>0.63</td>\n",
       "      <td>0.57</td>\n",
       "      <td>0.47</td>\n",
       "      <td>0.06</td>\n",
       "      <td>0.09</td>\n",
       "      <td>0.04</td>\n",
       "      <td>0.43</td>\n",
       "      <td>-0.01</td>\n",
       "      <td>-0.06</td>\n",
       "      <td>0.03</td>\n",
       "      <td>0.24</td>\n",
       "      <td>0.07</td>\n",
       "      <td>0.21</td>\n",
       "      <td>0.0</td>\n",
       "      <td>-0.45</td>\n",
       "      <td>6.576</td>\n",
       "      <td>0.004</td>\n",
       "      <td>6.621</td>\n",
       "      <td>0.005</td>\n",
       "      <td>-0.019</td>\n",
       "      <td>0.004</td>\n",
       "      <td>0.00</td>\n",
       "      <td>0.00</td>\n",
       "      <td>6.6081</td>\n",
       "      <td>0.0007</td>\n",
       "      <td>0.008</td>\n",
       "      <td>127.0</td>\n",
       "      <td>6.60</td>\n",
       "      <td>6.62</td>\n",
       "      <td>1.0</td>\n",
       "      <td>1.0</td>\n",
       "      <td>NaN</td>\n",
       "      <td>NaN</td>\n",
       "      <td>NaN</td>\n",
       "      <td>NaN</td>\n",
       "      <td>NaN</td>\n",
       "      <td>224699.0</td>\n",
       "      <td>0.00</td>\n",
       "      <td>0</td>\n",
       "    </tr>\n",
       "    <tr>\n",
       "      <th>2</th>\n",
       "      <td>7</td>\n",
       "      <td>9.64</td>\n",
       "      <td>0.022549</td>\n",
       "      <td>20.036602</td>\n",
       "      <td>17.74</td>\n",
       "      <td>-208.12</td>\n",
       "      <td>-200.79</td>\n",
       "      <td>1.01</td>\n",
       "      <td>0.79</td>\n",
       "      <td>1.30</td>\n",
       "      <td>1.13</td>\n",
       "      <td>0.82</td>\n",
       "      <td>0.32</td>\n",
       "      <td>0.08</td>\n",
       "      <td>-0.02</td>\n",
       "      <td>-0.04</td>\n",
       "      <td>0.12</td>\n",
       "      <td>0.06</td>\n",
       "      <td>0.11</td>\n",
       "      <td>0.00</td>\n",
       "      <td>0.16</td>\n",
       "      <td>0.43</td>\n",
       "      <td>0.0</td>\n",
       "      <td>0.21</td>\n",
       "      <td>10.542</td>\n",
       "      <td>0.039</td>\n",
       "      <td>9.679</td>\n",
       "      <td>0.030</td>\n",
       "      <td>0.740</td>\n",
       "      <td>0.020</td>\n",
       "      <td>0.79</td>\n",
       "      <td>0.02</td>\n",
       "      <td>9.6795</td>\n",
       "      <td>0.0021</td>\n",
       "      <td>0.017</td>\n",
       "      <td>104.0</td>\n",
       "      <td>9.65</td>\n",
       "      <td>9.72</td>\n",
       "      <td>NaN</td>\n",
       "      <td>1.0</td>\n",
       "      <td>NaN</td>\n",
       "      <td>NaN</td>\n",
       "      <td>NaN</td>\n",
       "      <td>NaN</td>\n",
       "      <td>NaN</td>\n",
       "      <td>NaN</td>\n",
       "      <td>0.79</td>\n",
       "      <td>0</td>\n",
       "    </tr>\n",
       "    <tr>\n",
       "      <th>3</th>\n",
       "      <td>8</td>\n",
       "      <td>9.05</td>\n",
       "      <td>0.027292</td>\n",
       "      <td>25.886474</td>\n",
       "      <td>5.17</td>\n",
       "      <td>19.09</td>\n",
       "      <td>-5.66</td>\n",
       "      <td>1.70</td>\n",
       "      <td>0.93</td>\n",
       "      <td>1.95</td>\n",
       "      <td>1.54</td>\n",
       "      <td>0.88</td>\n",
       "      <td>0.27</td>\n",
       "      <td>-0.66</td>\n",
       "      <td>-0.36</td>\n",
       "      <td>-0.38</td>\n",
       "      <td>-0.12</td>\n",
       "      <td>0.36</td>\n",
       "      <td>-0.21</td>\n",
       "      <td>-0.24</td>\n",
       "      <td>0.32</td>\n",
       "      <td>0.18</td>\n",
       "      <td>0.0</td>\n",
       "      <td>0.98</td>\n",
       "      <td>10.433</td>\n",
       "      <td>0.055</td>\n",
       "      <td>9.151</td>\n",
       "      <td>0.029</td>\n",
       "      <td>1.102</td>\n",
       "      <td>0.051</td>\n",
       "      <td>3.92</td>\n",
       "      <td>0.39</td>\n",
       "      <td>8.5522</td>\n",
       "      <td>0.1671</td>\n",
       "      <td>1.460</td>\n",
       "      <td>77.0</td>\n",
       "      <td>7.15</td>\n",
       "      <td>11.25</td>\n",
       "      <td>NaN</td>\n",
       "      <td>1.0</td>\n",
       "      <td>NaN</td>\n",
       "      <td>NaN</td>\n",
       "      <td>NaN</td>\n",
       "      <td>NaN</td>\n",
       "      <td>NaN</td>\n",
       "      <td>224709.0</td>\n",
       "      <td>4.82</td>\n",
       "      <td>1</td>\n",
       "    </tr>\n",
       "    <tr>\n",
       "      <th>4</th>\n",
       "      <td>9</td>\n",
       "      <td>8.59</td>\n",
       "      <td>0.035342</td>\n",
       "      <td>36.585938</td>\n",
       "      <td>4.81</td>\n",
       "      <td>-6.30</td>\n",
       "      <td>8.42</td>\n",
       "      <td>0.86</td>\n",
       "      <td>0.55</td>\n",
       "      <td>0.99</td>\n",
       "      <td>1.02</td>\n",
       "      <td>0.65</td>\n",
       "      <td>0.03</td>\n",
       "      <td>0.16</td>\n",
       "      <td>-0.01</td>\n",
       "      <td>0.00</td>\n",
       "      <td>0.07</td>\n",
       "      <td>-0.02</td>\n",
       "      <td>0.08</td>\n",
       "      <td>0.04</td>\n",
       "      <td>0.10</td>\n",
       "      <td>0.13</td>\n",
       "      <td>3.0</td>\n",
       "      <td>-1.26</td>\n",
       "      <td>9.962</td>\n",
       "      <td>0.025</td>\n",
       "      <td>8.711</td>\n",
       "      <td>0.015</td>\n",
       "      <td>1.067</td>\n",
       "      <td>0.023</td>\n",
       "      <td>1.03</td>\n",
       "      <td>0.02</td>\n",
       "      <td>8.7534</td>\n",
       "      <td>0.0018</td>\n",
       "      <td>0.014</td>\n",
       "      <td>107.0</td>\n",
       "      <td>8.73</td>\n",
       "      <td>8.78</td>\n",
       "      <td>NaN</td>\n",
       "      <td>1.0</td>\n",
       "      <td>NaN</td>\n",
       "      <td>NaN</td>\n",
       "      <td>NaN</td>\n",
       "      <td>NaN</td>\n",
       "      <td>NaN</td>\n",
       "      <td>224708.0</td>\n",
       "      <td>1.00</td>\n",
       "      <td>0</td>\n",
       "    </tr>\n",
       "    <tr>\n",
       "      <th>...</th>\n",
       "      <td>...</td>\n",
       "      <td>...</td>\n",
       "      <td>...</td>\n",
       "      <td>...</td>\n",
       "      <td>...</td>\n",
       "      <td>...</td>\n",
       "      <td>...</td>\n",
       "      <td>...</td>\n",
       "      <td>...</td>\n",
       "      <td>...</td>\n",
       "      <td>...</td>\n",
       "      <td>...</td>\n",
       "      <td>...</td>\n",
       "      <td>...</td>\n",
       "      <td>...</td>\n",
       "      <td>...</td>\n",
       "      <td>...</td>\n",
       "      <td>...</td>\n",
       "      <td>...</td>\n",
       "      <td>...</td>\n",
       "      <td>...</td>\n",
       "      <td>...</td>\n",
       "      <td>...</td>\n",
       "      <td>...</td>\n",
       "      <td>...</td>\n",
       "      <td>...</td>\n",
       "      <td>...</td>\n",
       "      <td>...</td>\n",
       "      <td>...</td>\n",
       "      <td>...</td>\n",
       "      <td>...</td>\n",
       "      <td>...</td>\n",
       "      <td>...</td>\n",
       "      <td>...</td>\n",
       "      <td>...</td>\n",
       "      <td>...</td>\n",
       "      <td>...</td>\n",
       "      <td>...</td>\n",
       "      <td>...</td>\n",
       "      <td>...</td>\n",
       "      <td>...</td>\n",
       "      <td>...</td>\n",
       "      <td>...</td>\n",
       "      <td>...</td>\n",
       "      <td>...</td>\n",
       "      <td>...</td>\n",
       "      <td>...</td>\n",
       "      <td>...</td>\n",
       "    </tr>\n",
       "    <tr>\n",
       "      <th>71617</th>\n",
       "      <td>118313</td>\n",
       "      <td>8.94</td>\n",
       "      <td>359.955817</td>\n",
       "      <td>21.149740</td>\n",
       "      <td>2.32</td>\n",
       "      <td>0.28</td>\n",
       "      <td>-15.77</td>\n",
       "      <td>0.89</td>\n",
       "      <td>0.70</td>\n",
       "      <td>1.15</td>\n",
       "      <td>0.90</td>\n",
       "      <td>0.70</td>\n",
       "      <td>0.28</td>\n",
       "      <td>0.21</td>\n",
       "      <td>0.03</td>\n",
       "      <td>0.02</td>\n",
       "      <td>-0.03</td>\n",
       "      <td>0.06</td>\n",
       "      <td>0.03</td>\n",
       "      <td>-0.25</td>\n",
       "      <td>0.30</td>\n",
       "      <td>0.27</td>\n",
       "      <td>0.0</td>\n",
       "      <td>1.21</td>\n",
       "      <td>9.400</td>\n",
       "      <td>0.019</td>\n",
       "      <td>8.989</td>\n",
       "      <td>0.019</td>\n",
       "      <td>0.423</td>\n",
       "      <td>0.015</td>\n",
       "      <td>0.49</td>\n",
       "      <td>0.02</td>\n",
       "      <td>9.0336</td>\n",
       "      <td>0.0021</td>\n",
       "      <td>0.013</td>\n",
       "      <td>92.0</td>\n",
       "      <td>9.01</td>\n",
       "      <td>9.06</td>\n",
       "      <td>NaN</td>\n",
       "      <td>1.0</td>\n",
       "      <td>NaN</td>\n",
       "      <td>NaN</td>\n",
       "      <td>NaN</td>\n",
       "      <td>NaN</td>\n",
       "      <td>NaN</td>\n",
       "      <td>224671.0</td>\n",
       "      <td>0.49</td>\n",
       "      <td>0</td>\n",
       "    </tr>\n",
       "    <tr>\n",
       "      <th>71618</th>\n",
       "      <td>118314</td>\n",
       "      <td>9.27</td>\n",
       "      <td>359.956824</td>\n",
       "      <td>-37.857956</td>\n",
       "      <td>0.93</td>\n",
       "      <td>-6.60</td>\n",
       "      <td>-4.60</td>\n",
       "      <td>1.03</td>\n",
       "      <td>0.76</td>\n",
       "      <td>1.32</td>\n",
       "      <td>1.35</td>\n",
       "      <td>0.85</td>\n",
       "      <td>0.11</td>\n",
       "      <td>-0.10</td>\n",
       "      <td>-0.05</td>\n",
       "      <td>-0.21</td>\n",
       "      <td>-0.03</td>\n",
       "      <td>0.23</td>\n",
       "      <td>-0.06</td>\n",
       "      <td>-0.38</td>\n",
       "      <td>0.00</td>\n",
       "      <td>-0.13</td>\n",
       "      <td>0.0</td>\n",
       "      <td>0.26</td>\n",
       "      <td>10.731</td>\n",
       "      <td>0.034</td>\n",
       "      <td>9.378</td>\n",
       "      <td>0.018</td>\n",
       "      <td>1.147</td>\n",
       "      <td>0.030</td>\n",
       "      <td>1.11</td>\n",
       "      <td>0.03</td>\n",
       "      <td>9.4350</td>\n",
       "      <td>0.0020</td>\n",
       "      <td>0.022</td>\n",
       "      <td>148.0</td>\n",
       "      <td>9.38</td>\n",
       "      <td>9.47</td>\n",
       "      <td>NaN</td>\n",
       "      <td>1.0</td>\n",
       "      <td>NaN</td>\n",
       "      <td>NaN</td>\n",
       "      <td>NaN</td>\n",
       "      <td>NaN</td>\n",
       "      <td>NaN</td>\n",
       "      <td>NaN</td>\n",
       "      <td>1.03</td>\n",
       "      <td>0</td>\n",
       "    </tr>\n",
       "    <tr>\n",
       "      <th>71619</th>\n",
       "      <td>118318</td>\n",
       "      <td>6.99</td>\n",
       "      <td>359.963744</td>\n",
       "      <td>11.673709</td>\n",
       "      <td>1.92</td>\n",
       "      <td>-2.16</td>\n",
       "      <td>2.09</td>\n",
       "      <td>0.78</td>\n",
       "      <td>0.50</td>\n",
       "      <td>0.91</td>\n",
       "      <td>0.88</td>\n",
       "      <td>0.60</td>\n",
       "      <td>0.33</td>\n",
       "      <td>-0.02</td>\n",
       "      <td>-0.09</td>\n",
       "      <td>-0.19</td>\n",
       "      <td>-0.03</td>\n",
       "      <td>0.21</td>\n",
       "      <td>-0.02</td>\n",
       "      <td>-0.11</td>\n",
       "      <td>0.27</td>\n",
       "      <td>0.49</td>\n",
       "      <td>0.0</td>\n",
       "      <td>2.00</td>\n",
       "      <td>9.107</td>\n",
       "      <td>0.015</td>\n",
       "      <td>7.186</td>\n",
       "      <td>0.007</td>\n",
       "      <td>1.595</td>\n",
       "      <td>0.013</td>\n",
       "      <td>1.61</td>\n",
       "      <td>0.01</td>\n",
       "      <td>7.1043</td>\n",
       "      <td>0.0018</td>\n",
       "      <td>0.014</td>\n",
       "      <td>92.0</td>\n",
       "      <td>7.08</td>\n",
       "      <td>7.12</td>\n",
       "      <td>NaN</td>\n",
       "      <td>1.0</td>\n",
       "      <td>NaN</td>\n",
       "      <td>NaN</td>\n",
       "      <td>NaN</td>\n",
       "      <td>NaN</td>\n",
       "      <td>NaN</td>\n",
       "      <td>224673.0</td>\n",
       "      <td>1.56</td>\n",
       "      <td>1</td>\n",
       "    </tr>\n",
       "    <tr>\n",
       "      <th>71620</th>\n",
       "      <td>118319</td>\n",
       "      <td>8.23</td>\n",
       "      <td>359.973913</td>\n",
       "      <td>-22.428180</td>\n",
       "      <td>10.63</td>\n",
       "      <td>148.74</td>\n",
       "      <td>27.53</td>\n",
       "      <td>0.97</td>\n",
       "      <td>0.58</td>\n",
       "      <td>1.17</td>\n",
       "      <td>1.10</td>\n",
       "      <td>0.52</td>\n",
       "      <td>0.04</td>\n",
       "      <td>0.17</td>\n",
       "      <td>0.04</td>\n",
       "      <td>-0.11</td>\n",
       "      <td>0.10</td>\n",
       "      <td>0.17</td>\n",
       "      <td>0.07</td>\n",
       "      <td>-0.31</td>\n",
       "      <td>0.12</td>\n",
       "      <td>-0.05</td>\n",
       "      <td>0.0</td>\n",
       "      <td>1.19</td>\n",
       "      <td>9.019</td>\n",
       "      <td>0.013</td>\n",
       "      <td>8.295</td>\n",
       "      <td>0.011</td>\n",
       "      <td>0.639</td>\n",
       "      <td>0.015</td>\n",
       "      <td>0.70</td>\n",
       "      <td>0.01</td>\n",
       "      <td>8.3699</td>\n",
       "      <td>0.0014</td>\n",
       "      <td>0.016</td>\n",
       "      <td>118.0</td>\n",
       "      <td>8.34</td>\n",
       "      <td>8.39</td>\n",
       "      <td>NaN</td>\n",
       "      <td>1.0</td>\n",
       "      <td>NaN</td>\n",
       "      <td>NaN</td>\n",
       "      <td>NaN</td>\n",
       "      <td>NaN</td>\n",
       "      <td>NaN</td>\n",
       "      <td>224693.0</td>\n",
       "      <td>0.70</td>\n",
       "      <td>0</td>\n",
       "    </tr>\n",
       "    <tr>\n",
       "      <th>71621</th>\n",
       "      <td>118320</td>\n",
       "      <td>7.59</td>\n",
       "      <td>359.976057</td>\n",
       "      <td>5.956638</td>\n",
       "      <td>5.00</td>\n",
       "      <td>20.92</td>\n",
       "      <td>-35.26</td>\n",
       "      <td>0.95</td>\n",
       "      <td>0.53</td>\n",
       "      <td>1.01</td>\n",
       "      <td>0.89</td>\n",
       "      <td>0.54</td>\n",
       "      <td>0.21</td>\n",
       "      <td>0.00</td>\n",
       "      <td>-0.05</td>\n",
       "      <td>-0.18</td>\n",
       "      <td>0.01</td>\n",
       "      <td>-0.04</td>\n",
       "      <td>0.01</td>\n",
       "      <td>-0.14</td>\n",
       "      <td>0.22</td>\n",
       "      <td>0.27</td>\n",
       "      <td>4.0</td>\n",
       "      <td>-1.12</td>\n",
       "      <td>8.868</td>\n",
       "      <td>0.013</td>\n",
       "      <td>7.704</td>\n",
       "      <td>0.009</td>\n",
       "      <td>0.999</td>\n",
       "      <td>0.012</td>\n",
       "      <td>0.98</td>\n",
       "      <td>0.01</td>\n",
       "      <td>7.7604</td>\n",
       "      <td>0.0010</td>\n",
       "      <td>0.010</td>\n",
       "      <td>86.0</td>\n",
       "      <td>7.74</td>\n",
       "      <td>7.77</td>\n",
       "      <td>NaN</td>\n",
       "      <td>1.0</td>\n",
       "      <td>NaN</td>\n",
       "      <td>NaN</td>\n",
       "      <td>NaN</td>\n",
       "      <td>NaN</td>\n",
       "      <td>NaN</td>\n",
       "      <td>224689.0</td>\n",
       "      <td>0.98</td>\n",
       "      <td>0</td>\n",
       "    </tr>\n",
       "  </tbody>\n",
       "</table>\n",
       "<p>71622 rows × 48 columns</p>\n",
       "</div>"
      ],
      "text/plain": [
       "          HIP  Vmag       RAdeg      DEdeg    Plx    pmRA    pmDE  e_RAdeg  \\\n",
       "0           2  9.27    0.003797 -19.498837  21.90  181.21   -0.93     1.28   \n",
       "1           3  6.61    0.005008  38.859286   2.81    5.24   -2.91     0.53   \n",
       "2           7  9.64    0.022549  20.036602  17.74 -208.12 -200.79     1.01   \n",
       "3           8  9.05    0.027292  25.886474   5.17   19.09   -5.66     1.70   \n",
       "4           9  8.59    0.035342  36.585938   4.81   -6.30    8.42     0.86   \n",
       "...       ...   ...         ...        ...    ...     ...     ...      ...   \n",
       "71617  118313  8.94  359.955817  21.149740   2.32    0.28  -15.77     0.89   \n",
       "71618  118314  9.27  359.956824 -37.857956   0.93   -6.60   -4.60     1.03   \n",
       "71619  118318  6.99  359.963744  11.673709   1.92   -2.16    2.09     0.78   \n",
       "71620  118319  8.23  359.973913 -22.428180  10.63  148.74   27.53     0.97   \n",
       "71621  118320  7.59  359.976057   5.956638   5.00   20.92  -35.26     0.95   \n",
       "\n",
       "       e_DEdeg  e_Plx  e_pmRA  e_pmDE  DE:RA  Plx:RA  Plx:DE  pmRA:RA  \\\n",
       "0         0.70   3.10    1.74    0.92   0.12   -0.14   -0.24    -0.29   \n",
       "1         0.40   0.63    0.57    0.47   0.06    0.09    0.04     0.43   \n",
       "2         0.79   1.30    1.13    0.82   0.32    0.08   -0.02    -0.04   \n",
       "3         0.93   1.95    1.54    0.88   0.27   -0.66   -0.36    -0.38   \n",
       "4         0.55   0.99    1.02    0.65   0.03    0.16   -0.01     0.00   \n",
       "...        ...    ...     ...     ...    ...     ...     ...      ...   \n",
       "71617     0.70   1.15    0.90    0.70   0.28    0.21    0.03     0.02   \n",
       "71618     0.76   1.32    1.35    0.85   0.11   -0.10   -0.05    -0.21   \n",
       "71619     0.50   0.91    0.88    0.60   0.33   -0.02   -0.09    -0.19   \n",
       "71620     0.58   1.17    1.10    0.52   0.04    0.17    0.04    -0.11   \n",
       "71621     0.53   1.01    0.89    0.54   0.21    0.00   -0.05    -0.18   \n",
       "\n",
       "       pmRA:DE  pmRA:Plx  pmDE:RA  pmDE:DE  pmDE:Plx  pmDE:pmRA   F1    F2  \\\n",
       "0         0.01      0.21    -0.02    -0.19     -0.28       0.14  2.0  1.45   \n",
       "1        -0.01     -0.06     0.03     0.24      0.07       0.21  0.0 -0.45   \n",
       "2         0.12      0.06     0.11     0.00      0.16       0.43  0.0  0.21   \n",
       "3        -0.12      0.36    -0.21    -0.24      0.32       0.18  0.0  0.98   \n",
       "4         0.07     -0.02     0.08     0.04      0.10       0.13  3.0 -1.26   \n",
       "...        ...       ...      ...      ...       ...        ...  ...   ...   \n",
       "71617    -0.03      0.06     0.03    -0.25      0.30       0.27  0.0  1.21   \n",
       "71618    -0.03      0.23    -0.06    -0.38      0.00      -0.13  0.0  0.26   \n",
       "71619    -0.03      0.21    -0.02    -0.11      0.27       0.49  0.0  2.00   \n",
       "71620     0.10      0.17     0.07    -0.31      0.12      -0.05  0.0  1.19   \n",
       "71621     0.01     -0.04     0.01    -0.14      0.22       0.27  4.0 -1.12   \n",
       "\n",
       "        BTmag  e_BTmag  VTmag  e_VTmag    B-V  e_B-V   V-I  e_V-I   Hpmag  \\\n",
       "0      10.519    0.033  9.378    0.021  0.999  0.002  1.04   0.00  9.4017   \n",
       "1       6.576    0.004  6.621    0.005 -0.019  0.004  0.00   0.00  6.6081   \n",
       "2      10.542    0.039  9.679    0.030  0.740  0.020  0.79   0.02  9.6795   \n",
       "3      10.433    0.055  9.151    0.029  1.102  0.051  3.92   0.39  8.5522   \n",
       "4       9.962    0.025  8.711    0.015  1.067  0.023  1.03   0.02  8.7534   \n",
       "...       ...      ...    ...      ...    ...    ...   ...    ...     ...   \n",
       "71617   9.400    0.019  8.989    0.019  0.423  0.015  0.49   0.02  9.0336   \n",
       "71618  10.731    0.034  9.378    0.018  1.147  0.030  1.11   0.03  9.4350   \n",
       "71619   9.107    0.015  7.186    0.007  1.595  0.013  1.61   0.01  7.1043   \n",
       "71620   9.019    0.013  8.295    0.011  0.639  0.015  0.70   0.01  8.3699   \n",
       "71621   8.868    0.013  7.704    0.009  0.999  0.012  0.98   0.01  7.7604   \n",
       "\n",
       "       e_Hpmag  Hpscat  o_Hpmag  Hpmax  HPmin  Nsys  Ncomp  theta  rho  e_rho  \\\n",
       "0       0.0017   0.015    120.0   9.37   9.44   NaN    1.0    NaN  NaN    NaN   \n",
       "1       0.0007   0.008    127.0   6.60   6.62   1.0    1.0    NaN  NaN    NaN   \n",
       "2       0.0021   0.017    104.0   9.65   9.72   NaN    1.0    NaN  NaN    NaN   \n",
       "3       0.1671   1.460     77.0   7.15  11.25   NaN    1.0    NaN  NaN    NaN   \n",
       "4       0.0018   0.014    107.0   8.73   8.78   NaN    1.0    NaN  NaN    NaN   \n",
       "...        ...     ...      ...    ...    ...   ...    ...    ...  ...    ...   \n",
       "71617   0.0021   0.013     92.0   9.01   9.06   NaN    1.0    NaN  NaN    NaN   \n",
       "71618   0.0020   0.022    148.0   9.38   9.47   NaN    1.0    NaN  NaN    NaN   \n",
       "71619   0.0018   0.014     92.0   7.08   7.12   NaN    1.0    NaN  NaN    NaN   \n",
       "71620   0.0014   0.016    118.0   8.34   8.39   NaN    1.0    NaN  NaN    NaN   \n",
       "71621   0.0010   0.010     86.0   7.74   7.77   NaN    1.0    NaN  NaN    NaN   \n",
       "\n",
       "       dHp  e_dHp        HD  (V-I)red  Target  \n",
       "0      NaN    NaN  224690.0      1.04       0  \n",
       "1      NaN    NaN  224699.0      0.00       0  \n",
       "2      NaN    NaN       NaN      0.79       0  \n",
       "3      NaN    NaN  224709.0      4.82       1  \n",
       "4      NaN    NaN  224708.0      1.00       0  \n",
       "...    ...    ...       ...       ...     ...  \n",
       "71617  NaN    NaN  224671.0      0.49       0  \n",
       "71618  NaN    NaN       NaN      1.03       0  \n",
       "71619  NaN    NaN  224673.0      1.56       1  \n",
       "71620  NaN    NaN  224693.0      0.70       0  \n",
       "71621  NaN    NaN  224689.0      0.98       0  \n",
       "\n",
       "[71622 rows x 48 columns]"
      ]
     },
     "execution_count": 19,
     "metadata": {},
     "output_type": "execute_result"
    }
   ],
   "source": [
    "df[numCols]"
   ]
  },
  {
   "cell_type": "code",
   "execution_count": 20,
   "metadata": {},
   "outputs": [
    {
     "name": "stdout",
     "output_type": "stream",
     "text": [
      "HIP\n"
     ]
    },
    {
     "data": {
      "text/plain": [
       "2047      1\n",
       "80242     1\n",
       "98661     1\n",
       "104806    1\n",
       "117100    1\n",
       "         ..\n",
       "44287     1\n",
       "48381     1\n",
       "46332     1\n",
       "34042     1\n",
       "2049      1\n",
       "Name: HIP, Length: 71622, dtype: int64"
      ]
     },
     "metadata": {},
     "output_type": "display_data"
    },
    {
     "data": {
      "text/plain": [
       "0.0"
      ]
     },
     "metadata": {},
     "output_type": "display_data"
    },
    {
     "name": "stdout",
     "output_type": "stream",
     "text": [
      "Vmag\n"
     ]
    },
    {
     "data": {
      "text/plain": [
       "8.65     300\n",
       "8.94     299\n",
       "8.27     299\n",
       "8.44     297\n",
       "8.40     294\n",
       "        ... \n",
       "13.31      1\n",
       "3.87       1\n",
       "12.86      1\n",
       "1.83       1\n",
       "1.67       1\n",
       "Name: Vmag, Length: 1085, dtype: int64"
      ]
     },
     "metadata": {},
     "output_type": "display_data"
    },
    {
     "data": {
      "text/plain": [
       "0.0"
      ]
     },
     "metadata": {},
     "output_type": "display_data"
    },
    {
     "name": "stdout",
     "output_type": "stream",
     "text": [
      "RAdeg\n"
     ]
    },
    {
     "data": {
      "text/plain": [
       "78.810238     1\n",
       "264.453318    1\n",
       "234.687241    1\n",
       "185.236040    1\n",
       "236.429562    1\n",
       "             ..\n",
       "153.973253    1\n",
       "263.560900    1\n",
       "230.179443    1\n",
       "276.217470    1\n",
       "110.228839    1\n",
       "Name: RAdeg, Length: 71409, dtype: int64"
      ]
     },
     "metadata": {},
     "output_type": "display_data"
    },
    {
     "data": {
      "text/plain": [
       "0.002973946552735193"
      ]
     },
     "metadata": {},
     "output_type": "display_data"
    },
    {
     "name": "stdout",
     "output_type": "stream",
     "text": [
      "DEdeg\n"
     ]
    },
    {
     "data": {
      "text/plain": [
       " 58.423605    1\n",
       "-60.756959    1\n",
       " 9.851969     1\n",
       " 41.715546    1\n",
       " 41.170547    1\n",
       "             ..\n",
       " 20.996500    1\n",
       " 2.627515     1\n",
       "-44.781548    1\n",
       "-30.935057    1\n",
       " 47.178000    1\n",
       "Name: DEdeg, Length: 71409, dtype: int64"
      ]
     },
     "metadata": {},
     "output_type": "display_data"
    },
    {
     "data": {
      "text/plain": [
       "0.002973946552735193"
      ]
     },
     "metadata": {},
     "output_type": "display_data"
    },
    {
     "name": "stdout",
     "output_type": "stream",
     "text": [
      "Plx\n"
     ]
    },
    {
     "data": {
      "text/plain": [
       " 2.51     116\n",
       " 2.93     115\n",
       " 2.92     113\n",
       " 2.71     106\n",
       " 3.37     106\n",
       "         ... \n",
       "-6.12       1\n",
       " 31.02      1\n",
       " 17.73      1\n",
       " 29.47      1\n",
       " 35.21      1\n",
       "Name: Plx, Length: 4755, dtype: int64"
      ]
     },
     "metadata": {},
     "output_type": "display_data"
    },
    {
     "data": {
      "text/plain": [
       "0.002973946552735193"
      ]
     },
     "metadata": {},
     "output_type": "display_data"
    },
    {
     "name": "stdout",
     "output_type": "stream",
     "text": [
      "pmRA\n"
     ]
    },
    {
     "data": {
      "text/plain": [
       "-4.42      34\n",
       "-2.71      33\n",
       "-2.07      32\n",
       "-1.48      32\n",
       "-2.26      32\n",
       "           ..\n",
       "-51.24      1\n",
       " 69.22      1\n",
       "-277.32     1\n",
       " 50.52      1\n",
       "-77.61      1\n",
       "Name: pmRA, Length: 18828, dtype: int64"
      ]
     },
     "metadata": {},
     "output_type": "display_data"
    },
    {
     "data": {
      "text/plain": [
       "0.002973946552735193"
      ]
     },
     "metadata": {},
     "output_type": "display_data"
    },
    {
     "name": "stdout",
     "output_type": "stream",
     "text": [
      "pmDE\n"
     ]
    },
    {
     "data": {
      "text/plain": [
       "-1.89      38\n",
       "-6.24      36\n",
       " 0.13      35\n",
       "-0.41      33\n",
       "-1.00      33\n",
       "           ..\n",
       "-192.52     1\n",
       " 30.20      1\n",
       " 31.55      1\n",
       "-126.30     1\n",
       "-64.00      1\n",
       "Name: pmDE, Length: 17230, dtype: int64"
      ]
     },
     "metadata": {},
     "output_type": "display_data"
    },
    {
     "data": {
      "text/plain": [
       "0.002973946552735193"
      ]
     },
     "metadata": {},
     "output_type": "display_data"
    },
    {
     "name": "stdout",
     "output_type": "stream",
     "text": [
      "e_RAdeg\n"
     ]
    },
    {
     "data": {
      "text/plain": [
       "0.79     866\n",
       "0.74     842\n",
       "0.81     841\n",
       "0.75     837\n",
       "0.87     833\n",
       "        ... \n",
       "28.08      1\n",
       "14.21      1\n",
       "9.22       1\n",
       "38.45      1\n",
       "31.80      1\n",
       "Name: e_RAdeg, Length: 1697, dtype: int64"
      ]
     },
     "metadata": {},
     "output_type": "display_data"
    },
    {
     "data": {
      "text/plain": [
       "0.002973946552735193"
      ]
     },
     "metadata": {},
     "output_type": "display_data"
    },
    {
     "name": "stdout",
     "output_type": "stream",
     "text": [
      "e_DEdeg\n"
     ]
    },
    {
     "data": {
      "text/plain": [
       "0.61     1370\n",
       "0.64     1343\n",
       "0.58     1342\n",
       "0.59     1327\n",
       "0.63     1326\n",
       "         ... \n",
       "20.28       1\n",
       "41.66       1\n",
       "66.08       1\n",
       "48.04       1\n",
       "7.90        1\n",
       "Name: e_DEdeg, Length: 1533, dtype: int64"
      ]
     },
     "metadata": {},
     "output_type": "display_data"
    },
    {
     "data": {
      "text/plain": [
       "0.002973946552735193"
      ]
     },
     "metadata": {},
     "output_type": "display_data"
    },
    {
     "name": "stdout",
     "output_type": "stream",
     "text": [
      "e_Plx\n"
     ]
    },
    {
     "data": {
      "text/plain": [
       "0.95     829\n",
       "0.92     816\n",
       "1.01     810\n",
       "0.90     809\n",
       "0.96     797\n",
       "        ... \n",
       "11.15      1\n",
       "10.59      1\n",
       "15.05      1\n",
       "19.70      1\n",
       "7.93       1\n",
       "Name: e_Plx, Length: 1264, dtype: int64"
      ]
     },
     "metadata": {},
     "output_type": "display_data"
    },
    {
     "data": {
      "text/plain": [
       "0.002973946552735193"
      ]
     },
     "metadata": {},
     "output_type": "display_data"
    },
    {
     "name": "stdout",
     "output_type": "stream",
     "text": [
      "e_pmRA\n"
     ]
    },
    {
     "data": {
      "text/plain": [
       "0.79     719\n",
       "0.92     691\n",
       "0.88     690\n",
       "0.85     685\n",
       "0.90     676\n",
       "        ... \n",
       "33.74      1\n",
       "34.80      1\n",
       "53.03      1\n",
       "24.72      1\n",
       "14.38      1\n",
       "Name: e_pmRA, Length: 1440, dtype: int64"
      ]
     },
     "metadata": {},
     "output_type": "display_data"
    },
    {
     "data": {
      "text/plain": [
       "0.002973946552735193"
      ]
     },
     "metadata": {},
     "output_type": "display_data"
    },
    {
     "name": "stdout",
     "output_type": "stream",
     "text": [
      "e_pmDE\n"
     ]
    },
    {
     "data": {
      "text/plain": [
       "0.76     1084\n",
       "0.73     1046\n",
       "0.72     1035\n",
       "0.74     1033\n",
       "0.71     1013\n",
       "         ... \n",
       "40.51       1\n",
       "24.37       1\n",
       "13.95       1\n",
       "9.84        1\n",
       "13.80       1\n",
       "Name: e_pmDE, Length: 1295, dtype: int64"
      ]
     },
     "metadata": {},
     "output_type": "display_data"
    },
    {
     "data": {
      "text/plain": [
       "0.002973946552735193"
      ]
     },
     "metadata": {},
     "output_type": "display_data"
    },
    {
     "name": "stdout",
     "output_type": "stream",
     "text": [
      "DE:RA\n"
     ]
    },
    {
     "data": {
      "text/plain": [
       " 0.00    1440\n",
       "-0.01    1430\n",
       "-0.02    1407\n",
       " 0.01    1407\n",
       "-0.03    1405\n",
       "         ... \n",
       "-0.82       1\n",
       "-0.77       1\n",
       " 0.96       1\n",
       "-0.98       1\n",
       "-0.88       1\n",
       "Name: DE:RA, Length: 176, dtype: int64"
      ]
     },
     "metadata": {},
     "output_type": "display_data"
    },
    {
     "data": {
      "text/plain": [
       "0.002973946552735193"
      ]
     },
     "metadata": {},
     "output_type": "display_data"
    },
    {
     "name": "stdout",
     "output_type": "stream",
     "text": [
      "Plx:RA\n"
     ]
    },
    {
     "data": {
      "text/plain": [
       "-0.01    1495\n",
       " 0.00    1458\n",
       " 0.04    1423\n",
       " 0.02    1399\n",
       " 0.01    1381\n",
       "         ... \n",
       " 0.99       1\n",
       " 0.76       1\n",
       "-0.71       1\n",
       "-0.94       1\n",
       "-0.82       1\n",
       "Name: Plx:RA, Length: 169, dtype: int64"
      ]
     },
     "metadata": {},
     "output_type": "display_data"
    },
    {
     "data": {
      "text/plain": [
       "0.002973946552735193"
      ]
     },
     "metadata": {},
     "output_type": "display_data"
    },
    {
     "name": "stdout",
     "output_type": "stream",
     "text": [
      "Plx:DE\n"
     ]
    },
    {
     "data": {
      "text/plain": [
       "-0.11    1876\n",
       "-0.09    1856\n",
       "-0.06    1821\n",
       "-0.07    1819\n",
       "-0.10    1804\n",
       "         ... \n",
       " 0.56       1\n",
       " 0.64       1\n",
       "-0.70       1\n",
       " 0.52       1\n",
       " 0.84       1\n",
       "Name: Plx:DE, Length: 136, dtype: int64"
      ]
     },
     "metadata": {},
     "output_type": "display_data"
    },
    {
     "data": {
      "text/plain": [
       "0.002973946552735193"
      ]
     },
     "metadata": {},
     "output_type": "display_data"
    },
    {
     "name": "stdout",
     "output_type": "stream",
     "text": [
      "pmRA:RA\n"
     ]
    },
    {
     "data": {
      "text/plain": [
       " 0.04    1447\n",
       " 0.00    1436\n",
       " 0.01    1426\n",
       " 0.06    1416\n",
       " 0.05    1413\n",
       "         ... \n",
       " 0.88       1\n",
       "-0.83       1\n",
       " 0.76       1\n",
       "-0.94       1\n",
       " 0.83       1\n",
       "Name: pmRA:RA, Length: 177, dtype: int64"
      ]
     },
     "metadata": {},
     "output_type": "display_data"
    },
    {
     "data": {
      "text/plain": [
       "0.002973946552735193"
      ]
     },
     "metadata": {},
     "output_type": "display_data"
    },
    {
     "name": "stdout",
     "output_type": "stream",
     "text": [
      "pmRA:DE\n"
     ]
    },
    {
     "data": {
      "text/plain": [
       " 0.00    2104\n",
       " 0.02    2063\n",
       "-0.01    2050\n",
       "-0.03    2021\n",
       " 0.04    2006\n",
       "         ... \n",
       "-0.87       1\n",
       " 0.73       1\n",
       "-0.82       1\n",
       "-0.68       1\n",
       "-0.75       1\n",
       "Name: pmRA:DE, Length: 154, dtype: int64"
      ]
     },
     "metadata": {},
     "output_type": "display_data"
    },
    {
     "data": {
      "text/plain": [
       "0.002973946552735193"
      ]
     },
     "metadata": {},
     "output_type": "display_data"
    },
    {
     "name": "stdout",
     "output_type": "stream",
     "text": [
      "pmRA:Plx\n"
     ]
    },
    {
     "data": {
      "text/plain": [
       "-0.01    1990\n",
       "-0.03    1914\n",
       " 0.03    1910\n",
       " 0.01    1900\n",
       "-0.02    1838\n",
       "         ... \n",
       "-0.72       1\n",
       "-0.61       1\n",
       " 0.76       1\n",
       "-0.68       1\n",
       "-0.60       1\n",
       "Name: pmRA:Plx, Length: 142, dtype: int64"
      ]
     },
     "metadata": {},
     "output_type": "display_data"
    },
    {
     "data": {
      "text/plain": [
       "0.002973946552735193"
      ]
     },
     "metadata": {},
     "output_type": "display_data"
    },
    {
     "name": "stdout",
     "output_type": "stream",
     "text": [
      "pmDE:RA\n"
     ]
    },
    {
     "data": {
      "text/plain": [
       " 0.00    2197\n",
       " 0.02    2147\n",
       " 0.04    2128\n",
       " 0.03    2099\n",
       "-0.01    2088\n",
       "         ... \n",
       "-0.67       1\n",
       " 0.69       1\n",
       "-0.94       1\n",
       " 0.72       1\n",
       "-0.72       1\n",
       "Name: pmDE:RA, Length: 155, dtype: int64"
      ]
     },
     "metadata": {},
     "output_type": "display_data"
    },
    {
     "data": {
      "text/plain": [
       "0.002973946552735193"
      ]
     },
     "metadata": {},
     "output_type": "display_data"
    },
    {
     "name": "stdout",
     "output_type": "stream",
     "text": [
      "pmDE:DE\n"
     ]
    },
    {
     "data": {
      "text/plain": [
       "-0.08    1150\n",
       " 0.03    1141\n",
       "-0.06    1137\n",
       "-0.05    1137\n",
       "-0.04    1134\n",
       "         ... \n",
       "-0.98       1\n",
       "-0.95       1\n",
       " 0.85       1\n",
       "-0.92       1\n",
       "-0.94       1\n",
       "Name: pmDE:DE, Length: 187, dtype: int64"
      ]
     },
     "metadata": {},
     "output_type": "display_data"
    },
    {
     "data": {
      "text/plain": [
       "0.002973946552735193"
      ]
     },
     "metadata": {},
     "output_type": "display_data"
    },
    {
     "name": "stdout",
     "output_type": "stream",
     "text": [
      "pmDE:Plx\n"
     ]
    },
    {
     "data": {
      "text/plain": [
       " 0.06    1896\n",
       " 0.05    1892\n",
       " 0.00    1808\n",
       " 0.04    1791\n",
       " 0.03    1788\n",
       "         ... \n",
       " 0.70       1\n",
       "-0.63       1\n",
       "-0.61       1\n",
       " 0.67       1\n",
       " 0.94       1\n",
       "Name: pmDE:Plx, Length: 135, dtype: int64"
      ]
     },
     "metadata": {},
     "output_type": "display_data"
    },
    {
     "data": {
      "text/plain": [
       "0.002973946552735193"
      ]
     },
     "metadata": {},
     "output_type": "display_data"
    },
    {
     "name": "stdout",
     "output_type": "stream",
     "text": [
      "pmDE:pmRA\n"
     ]
    },
    {
     "data": {
      "text/plain": [
       " 0.00    1159\n",
       "-0.02    1151\n",
       "-0.05    1123\n",
       "-0.03    1123\n",
       "-0.01    1105\n",
       "         ... \n",
       "-0.82       1\n",
       " 0.87       1\n",
       " 0.93       1\n",
       " 0.94       1\n",
       " 0.88       1\n",
       "Name: pmDE:pmRA, Length: 177, dtype: int64"
      ]
     },
     "metadata": {},
     "output_type": "display_data"
    },
    {
     "data": {
      "text/plain": [
       "0.002973946552735193"
      ]
     },
     "metadata": {},
     "output_type": "display_data"
    },
    {
     "name": "stdout",
     "output_type": "stream",
     "text": [
      "F1\n"
     ]
    },
    {
     "data": {
      "text/plain": [
       "0.0     48668\n",
       "1.0      8225\n",
       "2.0      7229\n",
       "3.0      2993\n",
       "4.0      1637\n",
       "5.0       815\n",
       "6.0       412\n",
       "7.0       255\n",
       "8.0       160\n",
       "9.0       146\n",
       "10.0      107\n",
       "17.0       86\n",
       "11.0       85\n",
       "18.0       84\n",
       "12.0       78\n",
       "16.0       78\n",
       "13.0       70\n",
       "15.0       67\n",
       "14.0       56\n",
       "19.0       43\n",
       "21.0       20\n",
       "20.0       13\n",
       "23.0       12\n",
       "36.0        8\n",
       "22.0        7\n",
       "24.0        6\n",
       "25.0        6\n",
       "31.0        6\n",
       "26.0        6\n",
       "38.0        5\n",
       "40.0        4\n",
       "28.0        4\n",
       "34.0        3\n",
       "35.0        3\n",
       "29.0        3\n",
       "33.0        3\n",
       "37.0        3\n",
       "30.0        1\n",
       "47.0        1\n",
       "44.0        1\n",
       "Name: F1, dtype: int64"
      ]
     },
     "metadata": {},
     "output_type": "display_data"
    },
    {
     "data": {
      "text/plain": [
       "0.002973946552735193"
      ]
     },
     "metadata": {},
     "output_type": "display_data"
    },
    {
     "name": "stdout",
     "output_type": "stream",
     "text": [
      "F2\n"
     ]
    },
    {
     "data": {
      "text/plain": [
       "-0.05     315\n",
       " 0.07     312\n",
       " 0.30     300\n",
       " 0.42     298\n",
       " 0.20     292\n",
       "         ... \n",
       " 4.61       1\n",
       " 9.56       1\n",
       " 5.09       1\n",
       " 12.48      1\n",
       " 3.89       1\n",
       "Name: F2, Length: 834, dtype: int64"
      ]
     },
     "metadata": {},
     "output_type": "display_data"
    },
    {
     "data": {
      "text/plain": [
       "0.01535840942727095"
      ]
     },
     "metadata": {},
     "output_type": "display_data"
    },
    {
     "name": "stdout",
     "output_type": "stream",
     "text": [
      "BTmag\n"
     ]
    },
    {
     "data": {
      "text/plain": [
       "9.531     40\n",
       "9.710     39\n",
       "9.083     39\n",
       "10.068    39\n",
       "9.996     38\n",
       "          ..\n",
       "4.611      1\n",
       "6.575      1\n",
       "5.949      1\n",
       "5.974      1\n",
       "4.817      1\n",
       "Name: BTmag, Length: 7581, dtype: int64"
      ]
     },
     "metadata": {},
     "output_type": "display_data"
    },
    {
     "data": {
      "text/plain": [
       "0.025480997458881348"
      ]
     },
     "metadata": {},
     "output_type": "display_data"
    },
    {
     "name": "stdout",
     "output_type": "stream",
     "text": [
      "e_BTmag\n"
     ]
    },
    {
     "data": {
      "text/plain": [
       "0.010    3004\n",
       "0.011    2963\n",
       "0.012    2915\n",
       "0.009    2867\n",
       "0.013    2720\n",
       "         ... \n",
       "0.394       1\n",
       "1.378       1\n",
       "0.375       1\n",
       "0.325       1\n",
       "0.285       1\n",
       "Name: e_BTmag, Length: 381, dtype: int64"
      ]
     },
     "metadata": {},
     "output_type": "display_data"
    },
    {
     "data": {
      "text/plain": [
       "0.025480997458881348"
      ]
     },
     "metadata": {},
     "output_type": "display_data"
    },
    {
     "name": "stdout",
     "output_type": "stream",
     "text": [
      "VTmag\n"
     ]
    },
    {
     "data": {
      "text/plain": [
       "8.545    47\n",
       "9.151    46\n",
       "8.958    45\n",
       "8.926    44\n",
       "8.879    43\n",
       "         ..\n",
       "5.121     1\n",
       "3.857     1\n",
       "4.881     1\n",
       "5.059     1\n",
       "3.301     1\n",
       "Name: VTmag, Length: 6791, dtype: int64"
      ]
     },
     "metadata": {},
     "output_type": "display_data"
    },
    {
     "data": {
      "text/plain": [
       "0.02496439641450951"
      ]
     },
     "metadata": {},
     "output_type": "display_data"
    },
    {
     "name": "stdout",
     "output_type": "stream",
     "text": [
      "e_VTmag\n"
     ]
    },
    {
     "data": {
      "text/plain": [
       "0.009    3811\n",
       "0.010    3791\n",
       "0.011    3667\n",
       "0.012    3529\n",
       "0.008    3414\n",
       "         ... \n",
       "0.191       1\n",
       "0.211       1\n",
       "0.173       1\n",
       "0.170       1\n",
       "0.248       1\n",
       "Name: e_VTmag, Length: 203, dtype: int64"
      ]
     },
     "metadata": {},
     "output_type": "display_data"
    },
    {
     "data": {
      "text/plain": [
       "0.02496439641450951"
      ]
     },
     "metadata": {},
     "output_type": "display_data"
    },
    {
     "name": "stdout",
     "output_type": "stream",
     "text": [
      "B-V\n"
     ]
    },
    {
     "data": {
      "text/plain": [
       "1.000    216\n",
       "0.500    203\n",
       "1.500    192\n",
       "0.600    180\n",
       "0.400    169\n",
       "        ... \n",
       "2.835      1\n",
       "1.875      1\n",
       "1.967      1\n",
       "2.106      1\n",
       "2.065      1\n",
       "Name: B-V, Length: 2375, dtype: int64"
      ]
     },
     "metadata": {},
     "output_type": "display_data"
    },
    {
     "data": {
      "text/plain": [
       "0.012719555443858032"
      ]
     },
     "metadata": {},
     "output_type": "display_data"
    },
    {
     "name": "stdout",
     "output_type": "stream",
     "text": [
      "e_B-V\n"
     ]
    },
    {
     "data": {
      "text/plain": [
       "0.015    10878\n",
       "0.020     3338\n",
       "0.010     2039\n",
       "0.013     1972\n",
       "0.012     1964\n",
       "         ...  \n",
       "0.179        1\n",
       "0.302        1\n",
       "0.293        1\n",
       "0.222        1\n",
       "0.181        1\n",
       "Name: e_B-V, Length: 277, dtype: int64"
      ]
     },
     "metadata": {},
     "output_type": "display_data"
    },
    {
     "data": {
      "text/plain": [
       "0.012719555443858032"
      ]
     },
     "metadata": {},
     "output_type": "display_data"
    },
    {
     "name": "stdout",
     "output_type": "stream",
     "text": [
      "V-I\n"
     ]
    },
    {
     "data": {
      "text/plain": [
       "0.58    893\n",
       "0.55    853\n",
       "0.57    830\n",
       "0.52    828\n",
       "0.62    798\n",
       "       ... \n",
       "3.13      1\n",
       "5.04      1\n",
       "4.09      1\n",
       "3.73      1\n",
       "4.73      1\n",
       "Name: V-I, Length: 510, dtype: int64"
      ]
     },
     "metadata": {},
     "output_type": "display_data"
    },
    {
     "data": {
      "text/plain": [
       "0.012719555443858032"
      ]
     },
     "metadata": {},
     "output_type": "display_data"
    },
    {
     "name": "stdout",
     "output_type": "stream",
     "text": [
      "e_V-I\n"
     ]
    },
    {
     "data": {
      "text/plain": [
       "0.01    22450\n",
       "0.02    19961\n",
       "0.03     8642\n",
       "0.00     5517\n",
       "0.04     4986\n",
       "        ...  \n",
       "1.33        1\n",
       "1.18        1\n",
       "1.22        1\n",
       "2.45        1\n",
       "0.63        1\n",
       "Name: e_V-I, Length: 109, dtype: int64"
      ]
     },
     "metadata": {},
     "output_type": "display_data"
    },
    {
     "data": {
      "text/plain": [
       "0.012719555443858032"
      ]
     },
     "metadata": {},
     "output_type": "display_data"
    },
    {
     "name": "stdout",
     "output_type": "stream",
     "text": [
      "Hpmag\n"
     ]
    },
    {
     "data": {
      "text/plain": [
       "8.8639     10\n",
       "8.4278     10\n",
       "9.0273     10\n",
       "8.6533     10\n",
       "8.9519     10\n",
       "           ..\n",
       "10.0854     1\n",
       "7.4277      1\n",
       "7.0823      1\n",
       "7.3429      1\n",
       "8.0000      1\n",
       "Name: Hpmag, Length: 37352, dtype: int64"
      ]
     },
     "metadata": {},
     "output_type": "display_data"
    },
    {
     "data": {
      "text/plain": [
       "1.3962190388428136e-05"
      ]
     },
     "metadata": {},
     "output_type": "display_data"
    },
    {
     "name": "stdout",
     "output_type": "stream",
     "text": [
      "e_Hpmag\n"
     ]
    },
    {
     "data": {
      "text/plain": [
       "0.0015    3526\n",
       "0.0016    3455\n",
       "0.0014    3451\n",
       "0.0013    3442\n",
       "0.0017    3373\n",
       "          ... \n",
       "0.1184       1\n",
       "0.1458       1\n",
       "0.0699       1\n",
       "0.1313       1\n",
       "0.0625       1\n",
       "Name: e_Hpmag, Length: 1224, dtype: int64"
      ]
     },
     "metadata": {},
     "output_type": "display_data"
    },
    {
     "data": {
      "text/plain": [
       "1.3962190388428136e-05"
      ]
     },
     "metadata": {},
     "output_type": "display_data"
    },
    {
     "name": "stdout",
     "output_type": "stream",
     "text": [
      "Hpscat\n"
     ]
    },
    {
     "data": {
      "text/plain": [
       "0.014    4409\n",
       "0.013    4185\n",
       "0.015    4086\n",
       "0.012    4037\n",
       "0.016    3893\n",
       "         ... \n",
       "0.671       1\n",
       "0.511       1\n",
       "0.756       1\n",
       "1.873       1\n",
       "1.205       1\n",
       "Name: Hpscat, Length: 768, dtype: int64"
      ]
     },
     "metadata": {},
     "output_type": "display_data"
    },
    {
     "data": {
      "text/plain": [
       "0.013194269917064589"
      ]
     },
     "metadata": {},
     "output_type": "display_data"
    },
    {
     "name": "stdout",
     "output_type": "stream",
     "text": [
      "o_Hpmag\n"
     ]
    },
    {
     "data": {
      "text/plain": [
       "80.0     977\n",
       "82.0     953\n",
       "81.0     933\n",
       "77.0     915\n",
       "78.0     909\n",
       "        ... \n",
       "9.0        1\n",
       "20.0       1\n",
       "28.0       1\n",
       "338.0      1\n",
       "26.0       1\n",
       "Name: o_Hpmag, Length: 302, dtype: int64"
      ]
     },
     "metadata": {},
     "output_type": "display_data"
    },
    {
     "data": {
      "text/plain": [
       "0.013194269917064589"
      ]
     },
     "metadata": {},
     "output_type": "display_data"
    },
    {
     "name": "stdout",
     "output_type": "stream",
     "text": [
      "Hpmax\n"
     ]
    },
    {
     "data": {
      "text/plain": [
       "8.54     291\n",
       "8.45     287\n",
       "8.87     283\n",
       "8.74     281\n",
       "8.77     277\n",
       "        ... \n",
       "1.69       1\n",
       "3.63       1\n",
       "1.96       1\n",
       "12.12      1\n",
       "1.50       1\n",
       "Name: Hpmax, Length: 1030, dtype: int64"
      ]
     },
     "metadata": {},
     "output_type": "display_data"
    },
    {
     "data": {
      "text/plain": [
       "0.013194269917064589"
      ]
     },
     "metadata": {},
     "output_type": "display_data"
    },
    {
     "name": "stdout",
     "output_type": "stream",
     "text": [
      "HPmin\n"
     ]
    },
    {
     "data": {
      "text/plain": [
       "8.63    290\n",
       "8.58    286\n",
       "8.60    282\n",
       "8.75    276\n",
       "8.94    276\n",
       "       ... \n",
       "3.95      1\n",
       "3.72      1\n",
       "3.58      1\n",
       "3.90      1\n",
       "2.91      1\n",
       "Name: HPmin, Length: 1098, dtype: int64"
      ]
     },
     "metadata": {},
     "output_type": "display_data"
    },
    {
     "data": {
      "text/plain": [
       "0.013194269917064589"
      ]
     },
     "metadata": {},
     "output_type": "display_data"
    },
    {
     "name": "stdout",
     "output_type": "stream",
     "text": [
      "Nsys\n"
     ]
    },
    {
     "data": {
      "text/plain": [
       "1.0    12546\n",
       "2.0     3071\n",
       "3.0      106\n",
       "4.0       13\n",
       "Name: Nsys, dtype: int64"
      ]
     },
     "metadata": {},
     "output_type": "display_data"
    },
    {
     "data": {
      "text/plain": [
       "0.7802909720476948"
      ]
     },
     "metadata": {},
     "output_type": "display_data"
    },
    {
     "name": "stdout",
     "output_type": "stream",
     "text": [
      "Ncomp\n"
     ]
    },
    {
     "data": {
      "text/plain": [
       "1.0    61431\n",
       "2.0     9844\n",
       "3.0      128\n",
       "4.0        6\n",
       "Name: Ncomp, dtype: int64"
      ]
     },
     "metadata": {},
     "output_type": "display_data"
    },
    {
     "data": {
      "text/plain": [
       "0.002973946552735193"
      ]
     },
     "metadata": {},
     "output_type": "display_data"
    },
    {
     "name": "stdout",
     "output_type": "stream",
     "text": [
      "theta\n"
     ]
    },
    {
     "data": {
      "text/plain": [
       "4.0      47\n",
       "0.0      43\n",
       "26.0     42\n",
       "270.0    42\n",
       "191.0    41\n",
       "         ..\n",
       "34.0     17\n",
       "151.0    16\n",
       "224.0    15\n",
       "230.0    15\n",
       "206.0    15\n",
       "Name: theta, Length: 360, dtype: int64"
      ]
     },
     "metadata": {},
     "output_type": "display_data"
    },
    {
     "data": {
      "text/plain": [
       "0.8625561978163134"
      ]
     },
     "metadata": {},
     "output_type": "display_data"
    },
    {
     "name": "stdout",
     "output_type": "stream",
     "text": [
      "rho\n"
     ]
    },
    {
     "data": {
      "text/plain": [
       "0.142    20\n",
       "0.135    20\n",
       "0.234    19\n",
       "0.177    17\n",
       "0.187    17\n",
       "         ..\n",
       "6.368     1\n",
       "7.818     1\n",
       "2.585     1\n",
       "4.266     1\n",
       "5.545     1\n",
       "Name: rho, Length: 4356, dtype: int64"
      ]
     },
     "metadata": {},
     "output_type": "display_data"
    },
    {
     "data": {
      "text/plain": [
       "0.8625561978163134"
      ]
     },
     "metadata": {},
     "output_type": "display_data"
    },
    {
     "name": "stdout",
     "output_type": "stream",
     "text": [
      "e_rho\n"
     ]
    },
    {
     "data": {
      "text/plain": [
       "0.004    855\n",
       "0.005    814\n",
       "0.003    741\n",
       "0.006    687\n",
       "0.007    535\n",
       "        ... \n",
       "0.202      1\n",
       "0.141      1\n",
       "0.191      1\n",
       "0.242      1\n",
       "0.127      1\n",
       "Name: e_rho, Length: 139, dtype: int64"
      ]
     },
     "metadata": {},
     "output_type": "display_data"
    },
    {
     "data": {
      "text/plain": [
       "0.8625561978163134"
      ]
     },
     "metadata": {},
     "output_type": "display_data"
    },
    {
     "name": "stdout",
     "output_type": "stream",
     "text": [
      "dHp\n"
     ]
    },
    {
     "data": {
      "text/plain": [
       "0.13    66\n",
       "0.05    61\n",
       "0.10    57\n",
       "0.23    55\n",
       "0.17    54\n",
       "        ..\n",
       "4.47     1\n",
       "4.22     1\n",
       "4.28     1\n",
       "4.34     1\n",
       "4.24     1\n",
       "Name: dHp, Length: 432, dtype: int64"
      ]
     },
     "metadata": {},
     "output_type": "display_data"
    },
    {
     "data": {
      "text/plain": [
       "0.8625561978163134"
      ]
     },
     "metadata": {},
     "output_type": "display_data"
    },
    {
     "name": "stdout",
     "output_type": "stream",
     "text": [
      "e_dHp\n"
     ]
    },
    {
     "data": {
      "text/plain": [
       "0.02    1611\n",
       "0.01    1016\n",
       "0.03     962\n",
       "0.04     699\n",
       "0.05     565\n",
       "        ... \n",
       "4.61       1\n",
       "1.54       1\n",
       "1.26       1\n",
       "1.71       1\n",
       "2.57       1\n",
       "Name: e_dHp, Length: 160, dtype: int64"
      ]
     },
     "metadata": {},
     "output_type": "display_data"
    },
    {
     "data": {
      "text/plain": [
       "0.8625561978163134"
      ]
     },
     "metadata": {},
     "output_type": "display_data"
    },
    {
     "name": "stdout",
     "output_type": "stream",
     "text": [
      "HD\n"
     ]
    },
    {
     "data": {
      "text/plain": [
       "22878.0     2\n",
       "141186.0    2\n",
       "196197.0    2\n",
       "126049.0    2\n",
       "76323.0     2\n",
       "           ..\n",
       "125503.0    1\n",
       "49969.0     1\n",
       "38175.0     1\n",
       "185467.0    1\n",
       "1.0         1\n",
       "Name: HD, Length: 60003, dtype: int64"
      ]
     },
     "metadata": {},
     "output_type": "display_data"
    },
    {
     "data": {
      "text/plain": [
       "0.16144480746139456"
      ]
     },
     "metadata": {},
     "output_type": "display_data"
    },
    {
     "name": "stdout",
     "output_type": "stream",
     "text": [
      "(V-I)red\n"
     ]
    },
    {
     "data": {
      "text/plain": [
       "0.64    976\n",
       "0.65    958\n",
       "0.58    922\n",
       "0.57    907\n",
       "0.98    862\n",
       "       ... \n",
       "6.99      1\n",
       "3.94      1\n",
       "6.10      1\n",
       "4.09      1\n",
       "3.89      1\n",
       "Name: (V-I)red, Length: 559, dtype: int64"
      ]
     },
     "metadata": {},
     "output_type": "display_data"
    },
    {
     "data": {
      "text/plain": [
       "0.0"
      ]
     },
     "metadata": {},
     "output_type": "display_data"
    },
    {
     "name": "stdout",
     "output_type": "stream",
     "text": [
      "Target\n"
     ]
    },
    {
     "data": {
      "text/plain": [
       "0    46552\n",
       "1    25070\n",
       "Name: Target, dtype: int64"
      ]
     },
     "metadata": {},
     "output_type": "display_data"
    },
    {
     "data": {
      "text/plain": [
       "0.0"
      ]
     },
     "metadata": {},
     "output_type": "display_data"
    }
   ],
   "source": [
    "for col in numCols:\n",
    "    print(col)\n",
    "    display(df[col].value_counts())\n",
    "    display(df[col].isna().sum() / len(df))"
   ]
  },
  {
   "cell_type": "code",
   "execution_count": 24,
   "metadata": {},
   "outputs": [
    {
     "data": {
      "text/plain": [
       "61778"
      ]
     },
     "execution_count": 24,
     "metadata": {},
     "output_type": "execute_result"
    }
   ],
   "source": [
    "df[df['theta'].isna()]['rho'].isna().sum()"
   ]
  },
  {
   "cell_type": "code",
   "execution_count": 17,
   "metadata": {},
   "outputs": [
    {
     "data": {
      "text/plain": [
       "S    35184\n",
       "X     8494\n",
       "3     6436\n",
       "1     6403\n",
       "4     6226\n",
       "2     5279\n",
       "G     1132\n",
       "K      653\n",
       "Name: r_SpType, dtype: int64"
      ]
     },
     "execution_count": 17,
     "metadata": {},
     "output_type": "execute_result"
    }
   ],
   "source": [
    "df['r_SpType'].value_counts()"
   ]
  },
  {
   "cell_type": "code",
   "execution_count": 31,
   "metadata": {},
   "outputs": [
    {
     "data": {
      "text/html": [
       "<div>\n",
       "<style scoped>\n",
       "    .dataframe tbody tr th:only-of-type {\n",
       "        vertical-align: middle;\n",
       "    }\n",
       "\n",
       "    .dataframe tbody tr th {\n",
       "        vertical-align: top;\n",
       "    }\n",
       "\n",
       "    .dataframe thead th {\n",
       "        text-align: right;\n",
       "    }\n",
       "</style>\n",
       "<table border=\"1\" class=\"dataframe\">\n",
       "  <thead>\n",
       "    <tr style=\"text-align: right;\">\n",
       "      <th></th>\n",
       "      <th>HIP</th>\n",
       "      <th>Proxy</th>\n",
       "      <th>RAhms</th>\n",
       "      <th>DEdms</th>\n",
       "      <th>Vmag</th>\n",
       "      <th>r_Vmag</th>\n",
       "      <th>RAdeg</th>\n",
       "      <th>DEdeg</th>\n",
       "      <th>AstroRef</th>\n",
       "      <th>Plx</th>\n",
       "      <th>pmRA</th>\n",
       "      <th>pmDE</th>\n",
       "      <th>e_RAdeg</th>\n",
       "      <th>e_DEdeg</th>\n",
       "      <th>e_Plx</th>\n",
       "      <th>e_pmRA</th>\n",
       "      <th>e_pmDE</th>\n",
       "      <th>DE:RA</th>\n",
       "      <th>Plx:RA</th>\n",
       "      <th>Plx:DE</th>\n",
       "      <th>pmRA:RA</th>\n",
       "      <th>pmRA:DE</th>\n",
       "      <th>pmRA:Plx</th>\n",
       "      <th>pmDE:RA</th>\n",
       "      <th>pmDE:DE</th>\n",
       "      <th>pmDE:Plx</th>\n",
       "      <th>pmDE:pmRA</th>\n",
       "      <th>F1</th>\n",
       "      <th>F2</th>\n",
       "      <th>BTmag</th>\n",
       "      <th>e_BTmag</th>\n",
       "      <th>VTmag</th>\n",
       "      <th>e_VTmag</th>\n",
       "      <th>m_BTmag</th>\n",
       "      <th>B-V</th>\n",
       "      <th>e_B-V</th>\n",
       "      <th>r_B-V</th>\n",
       "      <th>V-I</th>\n",
       "      <th>e_V-I</th>\n",
       "      <th>r_V-I</th>\n",
       "      <th>CombMag</th>\n",
       "      <th>Hpmag</th>\n",
       "      <th>e_Hpmag</th>\n",
       "      <th>Hpscat</th>\n",
       "      <th>o_Hpmag</th>\n",
       "      <th>m_Hpmag</th>\n",
       "      <th>Hpmax</th>\n",
       "      <th>HPmin</th>\n",
       "      <th>HvarType</th>\n",
       "      <th>CCDM</th>\n",
       "      <th>n_CCDM</th>\n",
       "      <th>Nsys</th>\n",
       "      <th>Ncomp</th>\n",
       "      <th>MultFlag</th>\n",
       "      <th>Qual</th>\n",
       "      <th>m_HIP</th>\n",
       "      <th>theta</th>\n",
       "      <th>rho</th>\n",
       "      <th>e_rho</th>\n",
       "      <th>dHp</th>\n",
       "      <th>e_dHp</th>\n",
       "      <th>Survey</th>\n",
       "      <th>Chart</th>\n",
       "      <th>Notes</th>\n",
       "      <th>HD</th>\n",
       "      <th>BD</th>\n",
       "      <th>CoD</th>\n",
       "      <th>CPD</th>\n",
       "      <th>(V-I)red</th>\n",
       "      <th>SpType</th>\n",
       "      <th>r_SpType</th>\n",
       "      <th>Target</th>\n",
       "    </tr>\n",
       "  </thead>\n",
       "  <tbody>\n",
       "    <tr>\n",
       "      <th>0</th>\n",
       "      <td>2</td>\n",
       "      <td>NaN</td>\n",
       "      <td>00 00 00.91</td>\n",
       "      <td>-19 29 55.8</td>\n",
       "      <td>9.27</td>\n",
       "      <td>G</td>\n",
       "      <td>0.003797</td>\n",
       "      <td>-19.498837</td>\n",
       "      <td>+</td>\n",
       "      <td>21.90</td>\n",
       "      <td>181.21</td>\n",
       "      <td>-0.93</td>\n",
       "      <td>1.28</td>\n",
       "      <td>0.70</td>\n",
       "      <td>3.10</td>\n",
       "      <td>1.74</td>\n",
       "      <td>0.92</td>\n",
       "      <td>0.12</td>\n",
       "      <td>-0.14</td>\n",
       "      <td>-0.24</td>\n",
       "      <td>-0.29</td>\n",
       "      <td>0.01</td>\n",
       "      <td>0.21</td>\n",
       "      <td>-0.02</td>\n",
       "      <td>-0.19</td>\n",
       "      <td>-0.28</td>\n",
       "      <td>0.14</td>\n",
       "      <td>2.0</td>\n",
       "      <td>1.45</td>\n",
       "      <td>10.519</td>\n",
       "      <td>0.033</td>\n",
       "      <td>9.378</td>\n",
       "      <td>0.021</td>\n",
       "      <td>NaN</td>\n",
       "      <td>0.999</td>\n",
       "      <td>0.002</td>\n",
       "      <td>G</td>\n",
       "      <td>1.04</td>\n",
       "      <td>0.00</td>\n",
       "      <td>I</td>\n",
       "      <td>NaN</td>\n",
       "      <td>9.4017</td>\n",
       "      <td>0.0017</td>\n",
       "      <td>0.015</td>\n",
       "      <td>120.0</td>\n",
       "      <td>NaN</td>\n",
       "      <td>9.37</td>\n",
       "      <td>9.44</td>\n",
       "      <td>C</td>\n",
       "      <td>NaN</td>\n",
       "      <td>NaN</td>\n",
       "      <td>NaN</td>\n",
       "      <td>1.0</td>\n",
       "      <td>O</td>\n",
       "      <td>NaN</td>\n",
       "      <td>NaN</td>\n",
       "      <td>NaN</td>\n",
       "      <td>NaN</td>\n",
       "      <td>NaN</td>\n",
       "      <td>NaN</td>\n",
       "      <td>NaN</td>\n",
       "      <td>NaN</td>\n",
       "      <td>NaN</td>\n",
       "      <td>NaN</td>\n",
       "      <td>224690.0</td>\n",
       "      <td>B-20 6688</td>\n",
       "      <td>NaN</td>\n",
       "      <td>NaN</td>\n",
       "      <td>1.04</td>\n",
       "      <td>K3V</td>\n",
       "      <td>4</td>\n",
       "      <td>0</td>\n",
       "    </tr>\n",
       "    <tr>\n",
       "      <th>1</th>\n",
       "      <td>3</td>\n",
       "      <td>NaN</td>\n",
       "      <td>00 00 01.20</td>\n",
       "      <td>+38 51 33.4</td>\n",
       "      <td>6.61</td>\n",
       "      <td>G</td>\n",
       "      <td>0.005008</td>\n",
       "      <td>38.859286</td>\n",
       "      <td>NaN</td>\n",
       "      <td>2.81</td>\n",
       "      <td>5.24</td>\n",
       "      <td>-2.91</td>\n",
       "      <td>0.53</td>\n",
       "      <td>0.40</td>\n",
       "      <td>0.63</td>\n",
       "      <td>0.57</td>\n",
       "      <td>0.47</td>\n",
       "      <td>0.06</td>\n",
       "      <td>0.09</td>\n",
       "      <td>0.04</td>\n",
       "      <td>0.43</td>\n",
       "      <td>-0.01</td>\n",
       "      <td>-0.06</td>\n",
       "      <td>0.03</td>\n",
       "      <td>0.24</td>\n",
       "      <td>0.07</td>\n",
       "      <td>0.21</td>\n",
       "      <td>0.0</td>\n",
       "      <td>-0.45</td>\n",
       "      <td>6.576</td>\n",
       "      <td>0.004</td>\n",
       "      <td>6.621</td>\n",
       "      <td>0.005</td>\n",
       "      <td>NaN</td>\n",
       "      <td>-0.019</td>\n",
       "      <td>0.004</td>\n",
       "      <td>G</td>\n",
       "      <td>0.00</td>\n",
       "      <td>0.00</td>\n",
       "      <td>H</td>\n",
       "      <td>NaN</td>\n",
       "      <td>6.6081</td>\n",
       "      <td>0.0007</td>\n",
       "      <td>0.008</td>\n",
       "      <td>127.0</td>\n",
       "      <td>NaN</td>\n",
       "      <td>6.60</td>\n",
       "      <td>6.62</td>\n",
       "      <td>C</td>\n",
       "      <td>00000+3852</td>\n",
       "      <td>I</td>\n",
       "      <td>1.0</td>\n",
       "      <td>1.0</td>\n",
       "      <td>NaN</td>\n",
       "      <td>NaN</td>\n",
       "      <td>NaN</td>\n",
       "      <td>NaN</td>\n",
       "      <td>NaN</td>\n",
       "      <td>NaN</td>\n",
       "      <td>NaN</td>\n",
       "      <td>NaN</td>\n",
       "      <td>S</td>\n",
       "      <td>NaN</td>\n",
       "      <td>NaN</td>\n",
       "      <td>224699.0</td>\n",
       "      <td>B+38 5108</td>\n",
       "      <td>NaN</td>\n",
       "      <td>NaN</td>\n",
       "      <td>0.00</td>\n",
       "      <td>B9</td>\n",
       "      <td>S</td>\n",
       "      <td>0</td>\n",
       "    </tr>\n",
       "    <tr>\n",
       "      <th>2</th>\n",
       "      <td>7</td>\n",
       "      <td>NaN</td>\n",
       "      <td>00 00 05.41</td>\n",
       "      <td>+20 02 11.8</td>\n",
       "      <td>9.64</td>\n",
       "      <td>G</td>\n",
       "      <td>0.022549</td>\n",
       "      <td>20.036602</td>\n",
       "      <td>NaN</td>\n",
       "      <td>17.74</td>\n",
       "      <td>-208.12</td>\n",
       "      <td>-200.79</td>\n",
       "      <td>1.01</td>\n",
       "      <td>0.79</td>\n",
       "      <td>1.30</td>\n",
       "      <td>1.13</td>\n",
       "      <td>0.82</td>\n",
       "      <td>0.32</td>\n",
       "      <td>0.08</td>\n",
       "      <td>-0.02</td>\n",
       "      <td>-0.04</td>\n",
       "      <td>0.12</td>\n",
       "      <td>0.06</td>\n",
       "      <td>0.11</td>\n",
       "      <td>0.00</td>\n",
       "      <td>0.16</td>\n",
       "      <td>0.43</td>\n",
       "      <td>0.0</td>\n",
       "      <td>0.21</td>\n",
       "      <td>10.542</td>\n",
       "      <td>0.039</td>\n",
       "      <td>9.679</td>\n",
       "      <td>0.030</td>\n",
       "      <td>NaN</td>\n",
       "      <td>0.740</td>\n",
       "      <td>0.020</td>\n",
       "      <td>G</td>\n",
       "      <td>0.79</td>\n",
       "      <td>0.02</td>\n",
       "      <td>H</td>\n",
       "      <td>NaN</td>\n",
       "      <td>9.6795</td>\n",
       "      <td>0.0021</td>\n",
       "      <td>0.017</td>\n",
       "      <td>104.0</td>\n",
       "      <td>NaN</td>\n",
       "      <td>9.65</td>\n",
       "      <td>9.72</td>\n",
       "      <td>C</td>\n",
       "      <td>NaN</td>\n",
       "      <td>NaN</td>\n",
       "      <td>NaN</td>\n",
       "      <td>1.0</td>\n",
       "      <td>NaN</td>\n",
       "      <td>NaN</td>\n",
       "      <td>NaN</td>\n",
       "      <td>NaN</td>\n",
       "      <td>NaN</td>\n",
       "      <td>NaN</td>\n",
       "      <td>NaN</td>\n",
       "      <td>NaN</td>\n",
       "      <td>NaN</td>\n",
       "      <td>NaN</td>\n",
       "      <td>NaN</td>\n",
       "      <td>NaN</td>\n",
       "      <td>B+19 5185</td>\n",
       "      <td>NaN</td>\n",
       "      <td>NaN</td>\n",
       "      <td>0.79</td>\n",
       "      <td>G0</td>\n",
       "      <td>S</td>\n",
       "      <td>0</td>\n",
       "    </tr>\n",
       "    <tr>\n",
       "      <th>3</th>\n",
       "      <td>8</td>\n",
       "      <td>NaN</td>\n",
       "      <td>00 00 06.55</td>\n",
       "      <td>+25 53 11.3</td>\n",
       "      <td>9.05</td>\n",
       "      <td>H</td>\n",
       "      <td>0.027292</td>\n",
       "      <td>25.886474</td>\n",
       "      <td>NaN</td>\n",
       "      <td>5.17</td>\n",
       "      <td>19.09</td>\n",
       "      <td>-5.66</td>\n",
       "      <td>1.70</td>\n",
       "      <td>0.93</td>\n",
       "      <td>1.95</td>\n",
       "      <td>1.54</td>\n",
       "      <td>0.88</td>\n",
       "      <td>0.27</td>\n",
       "      <td>-0.66</td>\n",
       "      <td>-0.36</td>\n",
       "      <td>-0.38</td>\n",
       "      <td>-0.12</td>\n",
       "      <td>0.36</td>\n",
       "      <td>-0.21</td>\n",
       "      <td>-0.24</td>\n",
       "      <td>0.32</td>\n",
       "      <td>0.18</td>\n",
       "      <td>0.0</td>\n",
       "      <td>0.98</td>\n",
       "      <td>10.433</td>\n",
       "      <td>0.055</td>\n",
       "      <td>9.151</td>\n",
       "      <td>0.029</td>\n",
       "      <td>NaN</td>\n",
       "      <td>1.102</td>\n",
       "      <td>0.051</td>\n",
       "      <td>T</td>\n",
       "      <td>3.92</td>\n",
       "      <td>0.39</td>\n",
       "      <td>O</td>\n",
       "      <td>NaN</td>\n",
       "      <td>8.5522</td>\n",
       "      <td>0.1671</td>\n",
       "      <td>1.460</td>\n",
       "      <td>77.0</td>\n",
       "      <td>NaN</td>\n",
       "      <td>7.15</td>\n",
       "      <td>11.25</td>\n",
       "      <td>V</td>\n",
       "      <td>NaN</td>\n",
       "      <td>NaN</td>\n",
       "      <td>NaN</td>\n",
       "      <td>1.0</td>\n",
       "      <td>NaN</td>\n",
       "      <td>S</td>\n",
       "      <td>NaN</td>\n",
       "      <td>NaN</td>\n",
       "      <td>NaN</td>\n",
       "      <td>NaN</td>\n",
       "      <td>NaN</td>\n",
       "      <td>NaN</td>\n",
       "      <td>NaN</td>\n",
       "      <td>G</td>\n",
       "      <td>P</td>\n",
       "      <td>224709.0</td>\n",
       "      <td>B+25 5054</td>\n",
       "      <td>NaN</td>\n",
       "      <td>NaN</td>\n",
       "      <td>4.82</td>\n",
       "      <td>M6e-M8.5e Tc</td>\n",
       "      <td>G</td>\n",
       "      <td>1</td>\n",
       "    </tr>\n",
       "    <tr>\n",
       "      <th>4</th>\n",
       "      <td>9</td>\n",
       "      <td>NaN</td>\n",
       "      <td>00 00 08.48</td>\n",
       "      <td>+36 35 09.4</td>\n",
       "      <td>8.59</td>\n",
       "      <td>H</td>\n",
       "      <td>0.035342</td>\n",
       "      <td>36.585938</td>\n",
       "      <td>NaN</td>\n",
       "      <td>4.81</td>\n",
       "      <td>-6.30</td>\n",
       "      <td>8.42</td>\n",
       "      <td>0.86</td>\n",
       "      <td>0.55</td>\n",
       "      <td>0.99</td>\n",
       "      <td>1.02</td>\n",
       "      <td>0.65</td>\n",
       "      <td>0.03</td>\n",
       "      <td>0.16</td>\n",
       "      <td>-0.01</td>\n",
       "      <td>0.00</td>\n",
       "      <td>0.07</td>\n",
       "      <td>-0.02</td>\n",
       "      <td>0.08</td>\n",
       "      <td>0.04</td>\n",
       "      <td>0.10</td>\n",
       "      <td>0.13</td>\n",
       "      <td>3.0</td>\n",
       "      <td>-1.26</td>\n",
       "      <td>9.962</td>\n",
       "      <td>0.025</td>\n",
       "      <td>8.711</td>\n",
       "      <td>0.015</td>\n",
       "      <td>NaN</td>\n",
       "      <td>1.067</td>\n",
       "      <td>0.023</td>\n",
       "      <td>T</td>\n",
       "      <td>1.03</td>\n",
       "      <td>0.02</td>\n",
       "      <td>L</td>\n",
       "      <td>NaN</td>\n",
       "      <td>8.7534</td>\n",
       "      <td>0.0018</td>\n",
       "      <td>0.014</td>\n",
       "      <td>107.0</td>\n",
       "      <td>NaN</td>\n",
       "      <td>8.73</td>\n",
       "      <td>8.78</td>\n",
       "      <td>C</td>\n",
       "      <td>NaN</td>\n",
       "      <td>NaN</td>\n",
       "      <td>NaN</td>\n",
       "      <td>1.0</td>\n",
       "      <td>NaN</td>\n",
       "      <td>NaN</td>\n",
       "      <td>NaN</td>\n",
       "      <td>NaN</td>\n",
       "      <td>NaN</td>\n",
       "      <td>NaN</td>\n",
       "      <td>NaN</td>\n",
       "      <td>NaN</td>\n",
       "      <td>NaN</td>\n",
       "      <td>NaN</td>\n",
       "      <td>NaN</td>\n",
       "      <td>224708.0</td>\n",
       "      <td>B+35 5149</td>\n",
       "      <td>NaN</td>\n",
       "      <td>NaN</td>\n",
       "      <td>1.00</td>\n",
       "      <td>G5</td>\n",
       "      <td>S</td>\n",
       "      <td>0</td>\n",
       "    </tr>\n",
       "    <tr>\n",
       "      <th>...</th>\n",
       "      <td>...</td>\n",
       "      <td>...</td>\n",
       "      <td>...</td>\n",
       "      <td>...</td>\n",
       "      <td>...</td>\n",
       "      <td>...</td>\n",
       "      <td>...</td>\n",
       "      <td>...</td>\n",
       "      <td>...</td>\n",
       "      <td>...</td>\n",
       "      <td>...</td>\n",
       "      <td>...</td>\n",
       "      <td>...</td>\n",
       "      <td>...</td>\n",
       "      <td>...</td>\n",
       "      <td>...</td>\n",
       "      <td>...</td>\n",
       "      <td>...</td>\n",
       "      <td>...</td>\n",
       "      <td>...</td>\n",
       "      <td>...</td>\n",
       "      <td>...</td>\n",
       "      <td>...</td>\n",
       "      <td>...</td>\n",
       "      <td>...</td>\n",
       "      <td>...</td>\n",
       "      <td>...</td>\n",
       "      <td>...</td>\n",
       "      <td>...</td>\n",
       "      <td>...</td>\n",
       "      <td>...</td>\n",
       "      <td>...</td>\n",
       "      <td>...</td>\n",
       "      <td>...</td>\n",
       "      <td>...</td>\n",
       "      <td>...</td>\n",
       "      <td>...</td>\n",
       "      <td>...</td>\n",
       "      <td>...</td>\n",
       "      <td>...</td>\n",
       "      <td>...</td>\n",
       "      <td>...</td>\n",
       "      <td>...</td>\n",
       "      <td>...</td>\n",
       "      <td>...</td>\n",
       "      <td>...</td>\n",
       "      <td>...</td>\n",
       "      <td>...</td>\n",
       "      <td>...</td>\n",
       "      <td>...</td>\n",
       "      <td>...</td>\n",
       "      <td>...</td>\n",
       "      <td>...</td>\n",
       "      <td>...</td>\n",
       "      <td>...</td>\n",
       "      <td>...</td>\n",
       "      <td>...</td>\n",
       "      <td>...</td>\n",
       "      <td>...</td>\n",
       "      <td>...</td>\n",
       "      <td>...</td>\n",
       "      <td>...</td>\n",
       "      <td>...</td>\n",
       "      <td>...</td>\n",
       "      <td>...</td>\n",
       "      <td>...</td>\n",
       "      <td>...</td>\n",
       "      <td>...</td>\n",
       "      <td>...</td>\n",
       "      <td>...</td>\n",
       "      <td>...</td>\n",
       "      <td>...</td>\n",
       "    </tr>\n",
       "    <tr>\n",
       "      <th>71617</th>\n",
       "      <td>118313</td>\n",
       "      <td>NaN</td>\n",
       "      <td>23 59 49.40</td>\n",
       "      <td>+21 08 59.1</td>\n",
       "      <td>8.94</td>\n",
       "      <td>H</td>\n",
       "      <td>359.955817</td>\n",
       "      <td>21.149740</td>\n",
       "      <td>NaN</td>\n",
       "      <td>2.32</td>\n",
       "      <td>0.28</td>\n",
       "      <td>-15.77</td>\n",
       "      <td>0.89</td>\n",
       "      <td>0.70</td>\n",
       "      <td>1.15</td>\n",
       "      <td>0.90</td>\n",
       "      <td>0.70</td>\n",
       "      <td>0.28</td>\n",
       "      <td>0.21</td>\n",
       "      <td>0.03</td>\n",
       "      <td>0.02</td>\n",
       "      <td>-0.03</td>\n",
       "      <td>0.06</td>\n",
       "      <td>0.03</td>\n",
       "      <td>-0.25</td>\n",
       "      <td>0.30</td>\n",
       "      <td>0.27</td>\n",
       "      <td>0.0</td>\n",
       "      <td>1.21</td>\n",
       "      <td>9.400</td>\n",
       "      <td>0.019</td>\n",
       "      <td>8.989</td>\n",
       "      <td>0.019</td>\n",
       "      <td>NaN</td>\n",
       "      <td>0.423</td>\n",
       "      <td>0.015</td>\n",
       "      <td>G</td>\n",
       "      <td>0.49</td>\n",
       "      <td>0.02</td>\n",
       "      <td>H</td>\n",
       "      <td>NaN</td>\n",
       "      <td>9.0336</td>\n",
       "      <td>0.0021</td>\n",
       "      <td>0.013</td>\n",
       "      <td>92.0</td>\n",
       "      <td>NaN</td>\n",
       "      <td>9.01</td>\n",
       "      <td>9.06</td>\n",
       "      <td>C</td>\n",
       "      <td>NaN</td>\n",
       "      <td>NaN</td>\n",
       "      <td>NaN</td>\n",
       "      <td>1.0</td>\n",
       "      <td>NaN</td>\n",
       "      <td>NaN</td>\n",
       "      <td>NaN</td>\n",
       "      <td>NaN</td>\n",
       "      <td>NaN</td>\n",
       "      <td>NaN</td>\n",
       "      <td>NaN</td>\n",
       "      <td>NaN</td>\n",
       "      <td>NaN</td>\n",
       "      <td>NaN</td>\n",
       "      <td>NaN</td>\n",
       "      <td>224671.0</td>\n",
       "      <td>B+20 5413</td>\n",
       "      <td>NaN</td>\n",
       "      <td>NaN</td>\n",
       "      <td>0.49</td>\n",
       "      <td>F0</td>\n",
       "      <td>S</td>\n",
       "      <td>0</td>\n",
       "    </tr>\n",
       "    <tr>\n",
       "      <th>71618</th>\n",
       "      <td>118314</td>\n",
       "      <td>NaN</td>\n",
       "      <td>23 59 49.64</td>\n",
       "      <td>-37 51 28.6</td>\n",
       "      <td>9.27</td>\n",
       "      <td>H</td>\n",
       "      <td>359.956824</td>\n",
       "      <td>-37.857956</td>\n",
       "      <td>NaN</td>\n",
       "      <td>0.93</td>\n",
       "      <td>-6.60</td>\n",
       "      <td>-4.60</td>\n",
       "      <td>1.03</td>\n",
       "      <td>0.76</td>\n",
       "      <td>1.32</td>\n",
       "      <td>1.35</td>\n",
       "      <td>0.85</td>\n",
       "      <td>0.11</td>\n",
       "      <td>-0.10</td>\n",
       "      <td>-0.05</td>\n",
       "      <td>-0.21</td>\n",
       "      <td>-0.03</td>\n",
       "      <td>0.23</td>\n",
       "      <td>-0.06</td>\n",
       "      <td>-0.38</td>\n",
       "      <td>0.00</td>\n",
       "      <td>-0.13</td>\n",
       "      <td>0.0</td>\n",
       "      <td>0.26</td>\n",
       "      <td>10.731</td>\n",
       "      <td>0.034</td>\n",
       "      <td>9.378</td>\n",
       "      <td>0.018</td>\n",
       "      <td>NaN</td>\n",
       "      <td>1.147</td>\n",
       "      <td>0.030</td>\n",
       "      <td>T</td>\n",
       "      <td>1.11</td>\n",
       "      <td>0.03</td>\n",
       "      <td>L</td>\n",
       "      <td>NaN</td>\n",
       "      <td>9.4350</td>\n",
       "      <td>0.0020</td>\n",
       "      <td>0.022</td>\n",
       "      <td>148.0</td>\n",
       "      <td>NaN</td>\n",
       "      <td>9.38</td>\n",
       "      <td>9.47</td>\n",
       "      <td>C</td>\n",
       "      <td>NaN</td>\n",
       "      <td>NaN</td>\n",
       "      <td>NaN</td>\n",
       "      <td>1.0</td>\n",
       "      <td>NaN</td>\n",
       "      <td>NaN</td>\n",
       "      <td>NaN</td>\n",
       "      <td>NaN</td>\n",
       "      <td>NaN</td>\n",
       "      <td>NaN</td>\n",
       "      <td>NaN</td>\n",
       "      <td>NaN</td>\n",
       "      <td>NaN</td>\n",
       "      <td>NaN</td>\n",
       "      <td>NaN</td>\n",
       "      <td>NaN</td>\n",
       "      <td>NaN</td>\n",
       "      <td>C-38 15704</td>\n",
       "      <td>P-38  8593</td>\n",
       "      <td>1.03</td>\n",
       "      <td>K0</td>\n",
       "      <td>S</td>\n",
       "      <td>0</td>\n",
       "    </tr>\n",
       "    <tr>\n",
       "      <th>71619</th>\n",
       "      <td>118318</td>\n",
       "      <td>NaN</td>\n",
       "      <td>23 59 51.30</td>\n",
       "      <td>+11 40 25.4</td>\n",
       "      <td>6.99</td>\n",
       "      <td>H</td>\n",
       "      <td>359.963744</td>\n",
       "      <td>11.673709</td>\n",
       "      <td>NaN</td>\n",
       "      <td>1.92</td>\n",
       "      <td>-2.16</td>\n",
       "      <td>2.09</td>\n",
       "      <td>0.78</td>\n",
       "      <td>0.50</td>\n",
       "      <td>0.91</td>\n",
       "      <td>0.88</td>\n",
       "      <td>0.60</td>\n",
       "      <td>0.33</td>\n",
       "      <td>-0.02</td>\n",
       "      <td>-0.09</td>\n",
       "      <td>-0.19</td>\n",
       "      <td>-0.03</td>\n",
       "      <td>0.21</td>\n",
       "      <td>-0.02</td>\n",
       "      <td>-0.11</td>\n",
       "      <td>0.27</td>\n",
       "      <td>0.49</td>\n",
       "      <td>0.0</td>\n",
       "      <td>2.00</td>\n",
       "      <td>9.107</td>\n",
       "      <td>0.015</td>\n",
       "      <td>7.186</td>\n",
       "      <td>0.007</td>\n",
       "      <td>NaN</td>\n",
       "      <td>1.595</td>\n",
       "      <td>0.013</td>\n",
       "      <td>T</td>\n",
       "      <td>1.61</td>\n",
       "      <td>0.01</td>\n",
       "      <td>L</td>\n",
       "      <td>NaN</td>\n",
       "      <td>7.1043</td>\n",
       "      <td>0.0018</td>\n",
       "      <td>0.014</td>\n",
       "      <td>92.0</td>\n",
       "      <td>NaN</td>\n",
       "      <td>7.08</td>\n",
       "      <td>7.12</td>\n",
       "      <td>V</td>\n",
       "      <td>NaN</td>\n",
       "      <td>NaN</td>\n",
       "      <td>NaN</td>\n",
       "      <td>1.0</td>\n",
       "      <td>NaN</td>\n",
       "      <td>NaN</td>\n",
       "      <td>NaN</td>\n",
       "      <td>NaN</td>\n",
       "      <td>NaN</td>\n",
       "      <td>NaN</td>\n",
       "      <td>NaN</td>\n",
       "      <td>NaN</td>\n",
       "      <td>S</td>\n",
       "      <td>NaN</td>\n",
       "      <td>NaN</td>\n",
       "      <td>224673.0</td>\n",
       "      <td>B+10 5018</td>\n",
       "      <td>NaN</td>\n",
       "      <td>NaN</td>\n",
       "      <td>1.56</td>\n",
       "      <td>K2</td>\n",
       "      <td>S</td>\n",
       "      <td>1</td>\n",
       "    </tr>\n",
       "    <tr>\n",
       "      <th>71620</th>\n",
       "      <td>118319</td>\n",
       "      <td>NaN</td>\n",
       "      <td>23 59 53.74</td>\n",
       "      <td>-22 25 41.4</td>\n",
       "      <td>8.23</td>\n",
       "      <td>G</td>\n",
       "      <td>359.973913</td>\n",
       "      <td>-22.428180</td>\n",
       "      <td>NaN</td>\n",
       "      <td>10.63</td>\n",
       "      <td>148.74</td>\n",
       "      <td>27.53</td>\n",
       "      <td>0.97</td>\n",
       "      <td>0.58</td>\n",
       "      <td>1.17</td>\n",
       "      <td>1.10</td>\n",
       "      <td>0.52</td>\n",
       "      <td>0.04</td>\n",
       "      <td>0.17</td>\n",
       "      <td>0.04</td>\n",
       "      <td>-0.11</td>\n",
       "      <td>0.10</td>\n",
       "      <td>0.17</td>\n",
       "      <td>0.07</td>\n",
       "      <td>-0.31</td>\n",
       "      <td>0.12</td>\n",
       "      <td>-0.05</td>\n",
       "      <td>0.0</td>\n",
       "      <td>1.19</td>\n",
       "      <td>9.019</td>\n",
       "      <td>0.013</td>\n",
       "      <td>8.295</td>\n",
       "      <td>0.011</td>\n",
       "      <td>NaN</td>\n",
       "      <td>0.639</td>\n",
       "      <td>0.015</td>\n",
       "      <td>G</td>\n",
       "      <td>0.70</td>\n",
       "      <td>0.01</td>\n",
       "      <td>H</td>\n",
       "      <td>NaN</td>\n",
       "      <td>8.3699</td>\n",
       "      <td>0.0014</td>\n",
       "      <td>0.016</td>\n",
       "      <td>118.0</td>\n",
       "      <td>NaN</td>\n",
       "      <td>8.34</td>\n",
       "      <td>8.39</td>\n",
       "      <td>C</td>\n",
       "      <td>NaN</td>\n",
       "      <td>NaN</td>\n",
       "      <td>NaN</td>\n",
       "      <td>1.0</td>\n",
       "      <td>NaN</td>\n",
       "      <td>NaN</td>\n",
       "      <td>NaN</td>\n",
       "      <td>NaN</td>\n",
       "      <td>NaN</td>\n",
       "      <td>NaN</td>\n",
       "      <td>NaN</td>\n",
       "      <td>NaN</td>\n",
       "      <td>S</td>\n",
       "      <td>NaN</td>\n",
       "      <td>NaN</td>\n",
       "      <td>224693.0</td>\n",
       "      <td>NaN</td>\n",
       "      <td>C-23 18108</td>\n",
       "      <td>P-23  8366</td>\n",
       "      <td>0.70</td>\n",
       "      <td>G2V</td>\n",
       "      <td>4</td>\n",
       "      <td>0</td>\n",
       "    </tr>\n",
       "    <tr>\n",
       "      <th>71621</th>\n",
       "      <td>118320</td>\n",
       "      <td>NaN</td>\n",
       "      <td>23 59 54.25</td>\n",
       "      <td>+05 57 23.9</td>\n",
       "      <td>7.59</td>\n",
       "      <td>H</td>\n",
       "      <td>359.976057</td>\n",
       "      <td>5.956638</td>\n",
       "      <td>NaN</td>\n",
       "      <td>5.00</td>\n",
       "      <td>20.92</td>\n",
       "      <td>-35.26</td>\n",
       "      <td>0.95</td>\n",
       "      <td>0.53</td>\n",
       "      <td>1.01</td>\n",
       "      <td>0.89</td>\n",
       "      <td>0.54</td>\n",
       "      <td>0.21</td>\n",
       "      <td>0.00</td>\n",
       "      <td>-0.05</td>\n",
       "      <td>-0.18</td>\n",
       "      <td>0.01</td>\n",
       "      <td>-0.04</td>\n",
       "      <td>0.01</td>\n",
       "      <td>-0.14</td>\n",
       "      <td>0.22</td>\n",
       "      <td>0.27</td>\n",
       "      <td>4.0</td>\n",
       "      <td>-1.12</td>\n",
       "      <td>8.868</td>\n",
       "      <td>0.013</td>\n",
       "      <td>7.704</td>\n",
       "      <td>0.009</td>\n",
       "      <td>NaN</td>\n",
       "      <td>0.999</td>\n",
       "      <td>0.012</td>\n",
       "      <td>T</td>\n",
       "      <td>0.98</td>\n",
       "      <td>0.01</td>\n",
       "      <td>L</td>\n",
       "      <td>NaN</td>\n",
       "      <td>7.7604</td>\n",
       "      <td>0.0010</td>\n",
       "      <td>0.010</td>\n",
       "      <td>86.0</td>\n",
       "      <td>NaN</td>\n",
       "      <td>7.74</td>\n",
       "      <td>7.77</td>\n",
       "      <td>C</td>\n",
       "      <td>NaN</td>\n",
       "      <td>NaN</td>\n",
       "      <td>NaN</td>\n",
       "      <td>1.0</td>\n",
       "      <td>NaN</td>\n",
       "      <td>NaN</td>\n",
       "      <td>NaN</td>\n",
       "      <td>NaN</td>\n",
       "      <td>NaN</td>\n",
       "      <td>NaN</td>\n",
       "      <td>NaN</td>\n",
       "      <td>NaN</td>\n",
       "      <td>S</td>\n",
       "      <td>NaN</td>\n",
       "      <td>NaN</td>\n",
       "      <td>224689.0</td>\n",
       "      <td>B+05 5245</td>\n",
       "      <td>NaN</td>\n",
       "      <td>NaN</td>\n",
       "      <td>0.98</td>\n",
       "      <td>K0</td>\n",
       "      <td>S</td>\n",
       "      <td>0</td>\n",
       "    </tr>\n",
       "  </tbody>\n",
       "</table>\n",
       "<p>71622 rows × 72 columns</p>\n",
       "</div>"
      ],
      "text/plain": [
       "          HIP Proxy        RAhms        DEdms  Vmag r_Vmag       RAdeg  \\\n",
       "0           2   NaN  00 00 00.91  -19 29 55.8  9.27      G    0.003797   \n",
       "1           3   NaN  00 00 01.20  +38 51 33.4  6.61      G    0.005008   \n",
       "2           7   NaN  00 00 05.41  +20 02 11.8  9.64      G    0.022549   \n",
       "3           8   NaN  00 00 06.55  +25 53 11.3  9.05      H    0.027292   \n",
       "4           9   NaN  00 00 08.48  +36 35 09.4  8.59      H    0.035342   \n",
       "...       ...   ...          ...          ...   ...    ...         ...   \n",
       "71617  118313   NaN  23 59 49.40  +21 08 59.1  8.94      H  359.955817   \n",
       "71618  118314   NaN  23 59 49.64  -37 51 28.6  9.27      H  359.956824   \n",
       "71619  118318   NaN  23 59 51.30  +11 40 25.4  6.99      H  359.963744   \n",
       "71620  118319   NaN  23 59 53.74  -22 25 41.4  8.23      G  359.973913   \n",
       "71621  118320   NaN  23 59 54.25  +05 57 23.9  7.59      H  359.976057   \n",
       "\n",
       "           DEdeg AstroRef    Plx    pmRA    pmDE  e_RAdeg  e_DEdeg  e_Plx  \\\n",
       "0     -19.498837        +  21.90  181.21   -0.93     1.28     0.70   3.10   \n",
       "1      38.859286      NaN   2.81    5.24   -2.91     0.53     0.40   0.63   \n",
       "2      20.036602      NaN  17.74 -208.12 -200.79     1.01     0.79   1.30   \n",
       "3      25.886474      NaN   5.17   19.09   -5.66     1.70     0.93   1.95   \n",
       "4      36.585938      NaN   4.81   -6.30    8.42     0.86     0.55   0.99   \n",
       "...          ...      ...    ...     ...     ...      ...      ...    ...   \n",
       "71617  21.149740      NaN   2.32    0.28  -15.77     0.89     0.70   1.15   \n",
       "71618 -37.857956      NaN   0.93   -6.60   -4.60     1.03     0.76   1.32   \n",
       "71619  11.673709      NaN   1.92   -2.16    2.09     0.78     0.50   0.91   \n",
       "71620 -22.428180      NaN  10.63  148.74   27.53     0.97     0.58   1.17   \n",
       "71621   5.956638      NaN   5.00   20.92  -35.26     0.95     0.53   1.01   \n",
       "\n",
       "       e_pmRA  e_pmDE  DE:RA  Plx:RA  Plx:DE  pmRA:RA  pmRA:DE  pmRA:Plx  \\\n",
       "0        1.74    0.92   0.12   -0.14   -0.24    -0.29     0.01      0.21   \n",
       "1        0.57    0.47   0.06    0.09    0.04     0.43    -0.01     -0.06   \n",
       "2        1.13    0.82   0.32    0.08   -0.02    -0.04     0.12      0.06   \n",
       "3        1.54    0.88   0.27   -0.66   -0.36    -0.38    -0.12      0.36   \n",
       "4        1.02    0.65   0.03    0.16   -0.01     0.00     0.07     -0.02   \n",
       "...       ...     ...    ...     ...     ...      ...      ...       ...   \n",
       "71617    0.90    0.70   0.28    0.21    0.03     0.02    -0.03      0.06   \n",
       "71618    1.35    0.85   0.11   -0.10   -0.05    -0.21    -0.03      0.23   \n",
       "71619    0.88    0.60   0.33   -0.02   -0.09    -0.19    -0.03      0.21   \n",
       "71620    1.10    0.52   0.04    0.17    0.04    -0.11     0.10      0.17   \n",
       "71621    0.89    0.54   0.21    0.00   -0.05    -0.18     0.01     -0.04   \n",
       "\n",
       "       pmDE:RA  pmDE:DE  pmDE:Plx  pmDE:pmRA   F1    F2   BTmag  e_BTmag  \\\n",
       "0        -0.02    -0.19     -0.28       0.14  2.0  1.45  10.519    0.033   \n",
       "1         0.03     0.24      0.07       0.21  0.0 -0.45   6.576    0.004   \n",
       "2         0.11     0.00      0.16       0.43  0.0  0.21  10.542    0.039   \n",
       "3        -0.21    -0.24      0.32       0.18  0.0  0.98  10.433    0.055   \n",
       "4         0.08     0.04      0.10       0.13  3.0 -1.26   9.962    0.025   \n",
       "...        ...      ...       ...        ...  ...   ...     ...      ...   \n",
       "71617     0.03    -0.25      0.30       0.27  0.0  1.21   9.400    0.019   \n",
       "71618    -0.06    -0.38      0.00      -0.13  0.0  0.26  10.731    0.034   \n",
       "71619    -0.02    -0.11      0.27       0.49  0.0  2.00   9.107    0.015   \n",
       "71620     0.07    -0.31      0.12      -0.05  0.0  1.19   9.019    0.013   \n",
       "71621     0.01    -0.14      0.22       0.27  4.0 -1.12   8.868    0.013   \n",
       "\n",
       "       VTmag  e_VTmag m_BTmag    B-V  e_B-V r_B-V   V-I  e_V-I r_V-I CombMag  \\\n",
       "0      9.378    0.021     NaN  0.999  0.002     G  1.04   0.00     I     NaN   \n",
       "1      6.621    0.005     NaN -0.019  0.004     G  0.00   0.00     H     NaN   \n",
       "2      9.679    0.030     NaN  0.740  0.020     G  0.79   0.02     H     NaN   \n",
       "3      9.151    0.029     NaN  1.102  0.051     T  3.92   0.39     O     NaN   \n",
       "4      8.711    0.015     NaN  1.067  0.023     T  1.03   0.02     L     NaN   \n",
       "...      ...      ...     ...    ...    ...   ...   ...    ...   ...     ...   \n",
       "71617  8.989    0.019     NaN  0.423  0.015     G  0.49   0.02     H     NaN   \n",
       "71618  9.378    0.018     NaN  1.147  0.030     T  1.11   0.03     L     NaN   \n",
       "71619  7.186    0.007     NaN  1.595  0.013     T  1.61   0.01     L     NaN   \n",
       "71620  8.295    0.011     NaN  0.639  0.015     G  0.70   0.01     H     NaN   \n",
       "71621  7.704    0.009     NaN  0.999  0.012     T  0.98   0.01     L     NaN   \n",
       "\n",
       "        Hpmag  e_Hpmag  Hpscat  o_Hpmag m_Hpmag  Hpmax  HPmin HvarType  \\\n",
       "0      9.4017   0.0017   0.015    120.0     NaN   9.37   9.44        C   \n",
       "1      6.6081   0.0007   0.008    127.0     NaN   6.60   6.62        C   \n",
       "2      9.6795   0.0021   0.017    104.0     NaN   9.65   9.72        C   \n",
       "3      8.5522   0.1671   1.460     77.0     NaN   7.15  11.25        V   \n",
       "4      8.7534   0.0018   0.014    107.0     NaN   8.73   8.78        C   \n",
       "...       ...      ...     ...      ...     ...    ...    ...      ...   \n",
       "71617  9.0336   0.0021   0.013     92.0     NaN   9.01   9.06        C   \n",
       "71618  9.4350   0.0020   0.022    148.0     NaN   9.38   9.47        C   \n",
       "71619  7.1043   0.0018   0.014     92.0     NaN   7.08   7.12        V   \n",
       "71620  8.3699   0.0014   0.016    118.0     NaN   8.34   8.39        C   \n",
       "71621  7.7604   0.0010   0.010     86.0     NaN   7.74   7.77        C   \n",
       "\n",
       "             CCDM n_CCDM  Nsys  Ncomp MultFlag Qual m_HIP  theta  rho  e_rho  \\\n",
       "0             NaN    NaN   NaN    1.0        O  NaN   NaN    NaN  NaN    NaN   \n",
       "1      00000+3852      I   1.0    1.0      NaN  NaN   NaN    NaN  NaN    NaN   \n",
       "2             NaN    NaN   NaN    1.0      NaN  NaN   NaN    NaN  NaN    NaN   \n",
       "3             NaN    NaN   NaN    1.0      NaN    S   NaN    NaN  NaN    NaN   \n",
       "4             NaN    NaN   NaN    1.0      NaN  NaN   NaN    NaN  NaN    NaN   \n",
       "...           ...    ...   ...    ...      ...  ...   ...    ...  ...    ...   \n",
       "71617         NaN    NaN   NaN    1.0      NaN  NaN   NaN    NaN  NaN    NaN   \n",
       "71618         NaN    NaN   NaN    1.0      NaN  NaN   NaN    NaN  NaN    NaN   \n",
       "71619         NaN    NaN   NaN    1.0      NaN  NaN   NaN    NaN  NaN    NaN   \n",
       "71620         NaN    NaN   NaN    1.0      NaN  NaN   NaN    NaN  NaN    NaN   \n",
       "71621         NaN    NaN   NaN    1.0      NaN  NaN   NaN    NaN  NaN    NaN   \n",
       "\n",
       "       dHp  e_dHp Survey Chart Notes        HD         BD         CoD  \\\n",
       "0      NaN    NaN    NaN   NaN   NaN  224690.0  B-20 6688         NaN   \n",
       "1      NaN    NaN      S   NaN   NaN  224699.0  B+38 5108         NaN   \n",
       "2      NaN    NaN    NaN   NaN   NaN       NaN  B+19 5185         NaN   \n",
       "3      NaN    NaN    NaN     G     P  224709.0  B+25 5054         NaN   \n",
       "4      NaN    NaN    NaN   NaN   NaN  224708.0  B+35 5149         NaN   \n",
       "...    ...    ...    ...   ...   ...       ...        ...         ...   \n",
       "71617  NaN    NaN    NaN   NaN   NaN  224671.0  B+20 5413         NaN   \n",
       "71618  NaN    NaN    NaN   NaN   NaN       NaN        NaN  C-38 15704   \n",
       "71619  NaN    NaN      S   NaN   NaN  224673.0  B+10 5018         NaN   \n",
       "71620  NaN    NaN      S   NaN   NaN  224693.0        NaN  C-23 18108   \n",
       "71621  NaN    NaN      S   NaN   NaN  224689.0  B+05 5245         NaN   \n",
       "\n",
       "              CPD  (V-I)red        SpType r_SpType  Target  \n",
       "0             NaN      1.04           K3V        4       0  \n",
       "1             NaN      0.00            B9        S       0  \n",
       "2             NaN      0.79            G0        S       0  \n",
       "3             NaN      4.82  M6e-M8.5e Tc        G       1  \n",
       "4             NaN      1.00            G5        S       0  \n",
       "...           ...       ...           ...      ...     ...  \n",
       "71617         NaN      0.49            F0        S       0  \n",
       "71618  P-38  8593      1.03            K0        S       0  \n",
       "71619         NaN      1.56            K2        S       1  \n",
       "71620  P-23  8366      0.70           G2V        4       0  \n",
       "71621         NaN      0.98            K0        S       0  \n",
       "\n",
       "[71622 rows x 72 columns]"
      ]
     },
     "execution_count": 31,
     "metadata": {},
     "output_type": "execute_result"
    }
   ],
   "source": [
    "df"
   ]
  },
  {
   "cell_type": "code",
   "execution_count": 38,
   "metadata": {},
   "outputs": [
    {
     "name": "stdout",
     "output_type": "stream",
     "text": [
      "Proxy\n",
      "r_Vmag\n",
      "r_B-V\n",
      "r_V-I\n"
     ]
    }
   ],
   "source": [
    "for col in df.columns:\n",
    "    if 'T' in df[col].value_counts().index:\n",
    "        print(col)"
   ]
  },
  {
   "cell_type": "code",
   "execution_count": 75,
   "metadata": {},
   "outputs": [],
   "source": [
    "mode_cols = ['r_B-V','r_V-I','r_Vmag']\n",
    "mode_imp = Pipeline(steps=[\n",
    "    ('mode_imp', SimpleImputer(strategy='most_frequent')),\n",
    "    ('mode_enc', OneHotEncoder(handle_unknown='ignore'))\n",
    "])\n",
    "\n",
    "const_cols = ['AstroRef','m_BTmag','CombMag','Proxy','m_Hpmag','CCDM','n_CCDM','MultFlag','Qual','Survey',\n",
    "              'Chart','Notes','r_SpType']\n",
    "const_imp = Pipeline(steps=[\n",
    "    ('const_imp', SimpleImputer(strategy='constant',fill_value='Null')),\n",
    "    ('const_enc', OneHotEncoder(handle_unknown='ignore'))\n",
    "])\n",
    "\n",
    "num_cols = ['Vmag', \"RAdeg\", 'DEdeg', 'Plx', 'pmRA', 'pmDE', 'e_RAdeg', 'e_DEdeg', 'e_Plx', 'e_pmRA',\n",
    "           'e_pmDE', 'DE:RA', 'Plx:RA', 'Plx:DE', 'pmRA:RA', 'pmRA:DE', 'pmRA:Plx', 'pmDE:RA', 'pmDE:DE',\n",
    "           'pmDE:Plx', 'pmDE:pmRA', 'F1', 'F2', 'BTmag', 'VTmag', 'e_VTmag', 'B-V', 'e_B-V', 'V-I', 'e_V-I',\n",
    "           'Hpmag', 'e_Hpmag', 'Hpscat', 'o_Hpmag', 'Hpmax', 'HPmin', 'rho', 'e_rho', 'dHp', 'e_dHp', '(V-I)red']\n",
    "num_imp = Pipeline(steps=[\n",
    "    ('num_imp',SimpleImputer(strategy='mean'))\n",
    "])\n",
    "\n",
    "missing_ind_cols = ['theta']\n",
    "missing_ind_imp = Pipeline(steps=[\n",
    "    ('missing_ind_imp', SimpleImputer(strategy='mean', add_indicator=True))\n",
    "])\n",
    "\n",
    "num_const_cols = ['Nsys', 'Ncomp']\n",
    "num_const_imp = Pipeline(steps=[\n",
    "    ('num_const_imp', SimpleImputer(strategy='constant', fill_value=1.0))\n",
    "])\n",
    "\n",
    "use_cols = [*mode_cols, *const_cols, *num_cols, *missing_ind_cols, *num_const_cols]"
   ]
  },
  {
   "cell_type": "code",
   "execution_count": 76,
   "metadata": {},
   "outputs": [],
   "source": [
    "preprocessor = ColumnTransformer(transformers=[\n",
    "    ('mode_pre',mode_imp,mode_cols),\n",
    "    ('const_pre',const_imp,const_cols),\n",
    "    ('no_imp_pre',no_imp_enc,no_imp_cols),\n",
    "    ('num_pre',num_imp,num_cols),\n",
    "    ('missing_ind_pre',missing_ind_imp,missing_ind_cols),\n",
    "    ('num_const_pre',num_const_imp,num_const_cols)\n",
    "])"
   ]
  },
  {
   "cell_type": "code",
   "execution_count": 79,
   "metadata": {},
   "outputs": [
    {
     "name": "stdout",
     "output_type": "stream",
     "text": [
      "\n",
      "Train Accuracy:\t\t0.9386402561620374\n",
      "Test Accuracy:\t\t0.9208645146878142\n",
      "\n",
      "Train Recall:\t\t0.8375758866758973\n",
      "Test Recall:\t\t0.8280356007628735\n",
      "\n",
      "Train Precision:\t0.9845999749593088\n",
      "Test Precision:\t\t0.939585211902615\n",
      "\n",
      "Train f1:\t\t0.9051565377532229\n",
      "Test f1:\t\t0.8802906141758892\n",
      "\n",
      "Train ROC-AUC:\t\t0.9507451435920379\n",
      "Test ROC-AUC:\t\t0.937857596948506\n"
     ]
    },
    {
     "data": {
      "image/png": "[encoded data removed]",
      "text/plain": [
       "<Figure size 432x288 with 2 Axes>"
      ]
     },
     "metadata": {
      "needs_background": "light"
     },
     "output_type": "display_data"
    }
   ],
   "source": [
    "logreg = Pipeline(steps=[\n",
    "    ('preprocessor',preprocessor),\n",
    "    ('scaler', StandardScaler(with_mean=False)),\n",
    "    ('logreg', LogisticRegression(max_iter=5000, random_state=42))\n",
    "])\n",
    "\n",
    "logreg.fit(x_train[use_cols],y_train)\n",
    "# logreg.score(x_train[use_cols],y_train)\n",
    "# x_tr_pr = preprocessor.fit_transform(x_train[use_cols])\n",
    "# x_te_pr = preprocessor.transform(x_test[use_cols])\n",
    "displayMetrics(logreg, x_train[use_cols], x_test[use_cols], y_train, y_test)"
   ]
  },
  {
   "cell_type": "code",
   "execution_count": null,
   "metadata": {},
   "outputs": [],
   "source": []
  }
 ],
 "metadata": {
  "kernelspec": {
   "display_name": "Python (learn-env)",
   "language": "python",
   "name": "learn-env"
  },
  "language_info": {
   "codemirror_mode": {
    "name": "ipython",
    "version": 3
   },
   "file_extension": ".py",
   "mimetype": "text/x-python",
   "name": "python",
   "nbconvert_exporter": "python",
   "pygments_lexer": "ipython3",
   "version": "3.8.5"
  }
 },
 "nbformat": 4,
 "nbformat_minor": 4
}
